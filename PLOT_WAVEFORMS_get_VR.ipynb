{
 "cells": [
  {
   "cell_type": "code",
   "execution_count": null,
   "metadata": {
    "ExecuteTime": {
     "end_time": "2020-10-30T09:33:52.679073Z",
     "start_time": "2020-10-30T09:33:52.367254Z"
    }
   },
   "outputs": [],
   "source": [
    "import matplotlib.pyplot as plt\n",
    "%matplotlib inline"
   ]
  },
  {
   "cell_type": "code",
   "execution_count": null,
   "metadata": {
    "ExecuteTime": {
     "end_time": "2020-10-30T09:33:54.625609Z",
     "start_time": "2020-10-30T09:33:53.235760Z"
    }
   },
   "outputs": [],
   "source": [
    "import numpy as np\n",
    "import obspy"
   ]
  },
  {
   "cell_type": "code",
   "execution_count": null,
   "metadata": {
    "ExecuteTime": {
     "end_time": "2020-10-30T09:44:56.815611Z",
     "start_time": "2020-10-30T09:44:56.806312Z"
    }
   },
   "outputs": [],
   "source": [
    "import glob\n",
    "mypath = '/home/ulrich/work/Norcia/latestModelBC_SC/'\n",
    "\n",
    "lsearch_string = [mypath+'tpvNorcia2d_faultslip_B-r*.dat',\n",
    "                  mypath+'tpvNorcia2d_faultslip_Ccor3-r*.dat',\n",
    "                  mypath+'tpvNorcia2d_StCh_fullA_fixed_rake_best-r*.dat']\n",
    "\n",
    "\n",
    "model_names=['familyB', 'familyC', 'stress change']\n",
    "\n",
    "cols=['r', 'g', 'm', 'b']\n",
    "\n",
    "ll_receivers_files=[]\n",
    "for search_string in lsearch_string:\n",
    "    ll_receivers_files.append(glob.glob(search_string))\n",
    "    if(len(ll_receivers_files[-1])!=36):\n",
    "        raise('wrong number of receivers')"
   ]
  },
  {
   "cell_type": "code",
   "execution_count": null,
   "metadata": {
    "ExecuteTime": {
     "end_time": "2020-10-30T09:44:59.239071Z",
     "start_time": "2020-10-30T09:44:59.208384Z"
    }
   },
   "outputs": [],
   "source": [
    "def read_synt(filenames, rotation=False):\n",
    "    st = obspy.Stream()\n",
    "    for filename in filenames:\n",
    "        #print(filename)\n",
    "        dr=np.loadtxt(filename, skiprows=5)\n",
    "        t=dr[:,0]\n",
    "        u=dr[:,7]\n",
    "        v=dr[:,8]\n",
    "        w=dr[:,9]\n",
    "\n",
    "        if rotation:\n",
    "            cos65=np.cos(np.deg2rad(65))\n",
    "            cos25=np.cos(np.deg2rad(25))\n",
    "            cx=u*cos65+v*cos25\n",
    "            cy=-u*cos25+v*cos65\n",
    "            u = cx\n",
    "            v = cy\n",
    "\n",
    "        stats = {'filename':'','starttime':'','sampling_rate':'','npts':'','network':'','station':'','channel':''}\n",
    "        stats['filename'] = filename\n",
    "        stats['starttime'] = t[0]\n",
    "        stats['delta']=t[1] - t[0]\n",
    "        stats['sampling_rate'] = 1./stats['delta']\n",
    "        stats['npts'] = len(t)\n",
    "        stats['network'] = 'SEI'\n",
    "        stats['station'] = namestations[filename.split('-')[2]]['name']\n",
    "\n",
    "        if rotation:\n",
    "            stats['channel'] = 'HNE'\n",
    "        else:\n",
    "            stats['channel'] = 'HNX'\n",
    "        \n",
    "        st.append(obspy.Trace(data=u, header=stats))\n",
    "\n",
    "        if rotation:\n",
    "            stats['channel'] = 'HNN'\n",
    "        else:\n",
    "            stats['channel'] = 'HNY'\n",
    "\n",
    "        st.append(obspy.Trace(data=v, header=stats))\n",
    "        stats['channel'] = 'HNZ'\n",
    "        st.append(obspy.Trace(data=w, header=stats))\n",
    "    if st[0].stats.sampling_rate != 10:\n",
    "        st.resample(10.0)\n",
    "    return st"
   ]
  },
  {
   "cell_type": "code",
   "execution_count": null,
   "metadata": {
    "ExecuteTime": {
     "end_time": "2020-10-30T09:45:01.749599Z",
     "start_time": "2020-10-30T09:45:01.739638Z"
    }
   },
   "outputs": [],
   "source": [
    "p1= (348441.37745855964, 4760209.936366674)\n",
    "p2= (362232.7642600371, 4729119.081252508)\n",
    "p3= (352174.7872181451, 4724717.009797877)\n",
    "p4= (338417.6740784673, 4755829.068911472)\n",
    "b1= (345565.4945478359, 4745358.360179848)\n",
    "b2= (355273.6147200515, 4739487.030371043)\n",
    "b3= (350072.44093796413, 4730941.33193833)\n",
    "b4= (340355.8855789609, 4736820.140207217)\n",
    "\n",
    "def draw_faults():\n",
    "    ax.plot([p1[0],p2[0]],[p1[1],p2[1]],c='k')\n",
    "    ax.plot([p2[0],p3[0]],[p2[1],p3[1]],c='k')\n",
    "    ax.plot([p3[0],p4[0]],[p3[1],p4[1]],c='k')\n",
    "    ax.plot([p4[0],p1[0]],[p4[1],p1[1]],c='k')\n",
    "    ax.plot([b1[0],b2[0]],[b1[1],b2[1]],c='k')\n",
    "    ax.plot([b2[0],b3[0]],[b2[1],b3[1]],c='k')\n",
    "    ax.plot([b3[0],b4[0]],[b3[1],b4[1]],c='k')\n",
    "    ax.plot([b4[0],b1[0]],[b4[1],b1[1]],c='k')"
   ]
  },
  {
   "cell_type": "code",
   "execution_count": null,
   "metadata": {
    "ExecuteTime": {
     "end_time": "2020-10-30T09:45:02.796399Z",
     "start_time": "2020-10-30T09:45:02.776272Z"
    }
   },
   "outputs": [],
   "source": [
    "namestations={}\n",
    "namestations['00001']={'name':'NRC','lat': 42.792500   ,'lon':  13.096400}\n",
    "namestations['00002']={'name':'CNE','lat':  42.894400  ,'lon':  13.152800}\n",
    "namestations['00003']={'name':'CLO','lat':  42.829400  ,'lon':  13.206000}\n",
    "namestations['00004']={'name':'PRE','lat':  42.879300  ,'lon':  13.033400}\n",
    "namestations['00005']={'name':'T1216','lat':    42.890670,'lon':  13.019000}\n",
    "namestations['00006']={'name':'T1212','lat':    42.751560,'lon':  13.044640}\n",
    "namestations['00007']={'name':'T1214','lat':    42.759540,'lon':  13.208700}\n",
    "namestations['00008']={'name':'T1213','lat':    42.724920,'lon':  13.125780}\n",
    "namestations['00009']={'name':'CSC','lat':  42.719000  ,'lon':  13.012200}\n",
    "namestations['00010']={'name':'T1244','lat':    42.756970,'lon':  13.297790}\n",
    "namestations['00011']={'name':'ACC','lat':  42.696000  ,'lon':  13.242000}\n",
    "namestations['00012']={'name':'MMO','lat':  42.899300  ,'lon':  13.326800}\n",
    "namestations['00013']={'name':'T1217','lat':    42.711900,'lon':  12.931330}\n",
    "namestations['00014']={'name':'MCV','lat':  42.993400  ,'lon':  13.001300}\n",
    "namestations['00015']={'name':'T1215','lat':    42.801880,'lon':  12.868510}\n",
    "namestations['00016']={'name':'T1256','lat':    43.006310,'lon':  13.226040}\n",
    "namestations['00017']={'name':'T1201','lat':    42.657300,'lon':  13.250800}\n",
    "namestations['00018']={'name':'ACT','lat':  42.771300  ,'lon':  13.412500}\n",
    "namestations['00019']={'name':'MNF','lat':  43.059600  ,'lon':  13.184400}\n",
    "namestations['00020']={'name':'T1241','lat':    42.856350,'lon':  13.431160}\n",
    "namestations['00021']={'name':'AMT','lat':  42.632500  ,'lon':  13.286600}\n",
    "namestations['00022']={'name':'CIT','lat':  42.594200  ,'lon':  13.163200}\n",
    "namestations['00023']={'name':'SNO','lat':  43.037100  ,'lon':  13.304100}\n",
    "namestations['00024']={'name':'FOC','lat':  43.026300  ,'lon':  12.896500}\n",
    "namestations['00025']={'name':'FOS','lat':  43.014600  ,'lon':  12.835100}\n",
    "namestations['00026']={'name':'TRE','lat':  42.876500  ,'lon':  12.735800}\n",
    "namestations['00027']={'name':'T1243','lat':    42.696570,'lon':  13.448390}\n",
    "namestations['00028']={'name':'PCB','lat':  42.558000  ,'lon':  13.338000}\n",
    "namestations['00029']={'name':'RM33','lat':   42.508980 ,'lon':  13.214520}\n",
    "namestations['00030']={'name':'SPD','lat':  42.515100  ,'lon':  13.371000}\n",
    "namestations['00031']={'name':'TRL','lat':  42.461300  ,'lon':  12.932300}\n",
    "namestations['00032']={'name':'ASP','lat':  42.848000  ,'lon':  13.647900}\n",
    "namestations['00033']={'name':'ANT','lat':  42.418200  ,'lon':  13.078600}\n",
    "namestations['00034']={'name':'TERO','lat':   42.622790 ,'lon':  13.603930}\n",
    "namestations['00035']={'name':'PZI1','lat':   42.435600 ,'lon':  13.326200}\n",
    "namestations['00036']={'name':'T1211','lat':    42.532850,'lon':  12.855150}"
   ]
  },
  {
   "cell_type": "code",
   "execution_count": null,
   "metadata": {
    "ExecuteTime": {
     "end_time": "2020-10-30T09:45:04.119700Z",
     "start_time": "2020-10-30T09:45:04.112348Z"
    }
   },
   "outputs": [],
   "source": [
    "import pyproj\n",
    "utm33 = pyproj.Proj(\"+proj=utm +zone=33, +north +ellps=WGS84 +datum=WGS84 +units=m +no_defs\")"
   ]
  },
  {
   "cell_type": "code",
   "execution_count": null,
   "metadata": {
    "ExecuteTime": {
     "end_time": "2020-10-30T09:45:05.517796Z",
     "start_time": "2020-10-30T09:45:05.181594Z"
    }
   },
   "outputs": [],
   "source": [
    "plt.figure(figsize=[10,10])\n",
    "stations=namestations.keys()\n",
    "for s in stations:\n",
    "    plt.plot(*utm33(namestations[s]['lon'],namestations[s]['lat']),'ko')\n",
    "    plt.text(*utm33(namestations[s]['lon']+.01,namestations[s]['lat']),namestations[s]['name'],fontsize=12)\n",
    "ax=plt.gca()\n",
    "ax.set_aspect('equal')\n",
    "draw_faults()"
   ]
  },
  {
   "cell_type": "code",
   "execution_count": null,
   "metadata": {
    "ExecuteTime": {
     "end_time": "2020-10-30T09:45:08.264508Z",
     "start_time": "2020-10-30T09:45:08.067516Z"
    }
   },
   "outputs": [],
   "source": [
    "#list of obspy streams with rotated waveforms\n",
    "l_st_rot=[]\n",
    "for list_receivers in ll_receivers_files:\n",
    "    l_st_rot.append(read_synt(list_receivers, True))"
   ]
  },
  {
   "cell_type": "code",
   "execution_count": null,
   "metadata": {
    "ExecuteTime": {
     "end_time": "2020-10-30T09:45:11.218887Z",
     "start_time": "2020-10-30T09:45:10.876931Z"
    },
    "scrolled": false
   },
   "outputs": [],
   "source": [
    "#list of obspy streams with non-rotated waveforms\n",
    "l_st_norot=[]\n",
    "for list_receivers in ll_receivers_files:\n",
    "    l_st_norot.append(read_synt(list_receivers, False))"
   ]
  },
  {
   "cell_type": "code",
   "execution_count": null,
   "metadata": {
    "ExecuteTime": {
     "end_time": "2020-10-30T09:45:16.649903Z",
     "start_time": "2020-10-30T09:45:16.645413Z"
    }
   },
   "outputs": [],
   "source": [
    "l_st_rot[0][0]"
   ]
  },
  {
   "cell_type": "code",
   "execution_count": null,
   "metadata": {
    "ExecuteTime": {
     "end_time": "2020-10-30T09:45:17.706685Z",
     "start_time": "2020-10-30T09:45:17.702222Z"
    }
   },
   "outputs": [],
   "source": [
    "l_st_rot[1][0]"
   ]
  },
  {
   "cell_type": "code",
   "execution_count": null,
   "metadata": {
    "ExecuteTime": {
     "end_time": "2020-10-30T09:45:18.829720Z",
     "start_time": "2020-10-30T09:45:18.827232Z"
    }
   },
   "outputs": [],
   "source": [
    "import matplotlib.gridspec as gridspec\n",
    "from mpl_toolkits.axes_grid1.inset_locator import inset_axes"
   ]
  },
  {
   "cell_type": "code",
   "execution_count": null,
   "metadata": {
    "ExecuteTime": {
     "end_time": "2020-10-30T09:45:19.875789Z",
     "start_time": "2020-10-30T09:45:19.858841Z"
    }
   },
   "outputs": [],
   "source": [
    "def processing(st,padtime=-30):\n",
    "    try:\n",
    "        t0=st[0].stats.starttime\n",
    "        t1=st[0].stats.endtime\n",
    "    except:\n",
    "        t0=st.stats.starttime\n",
    "        t1=st.stats.endtime        \n",
    "    _st=st.trim(starttime=t0+padtime, endtime=t1-padtime, pad=True, nearest_sample=True, fill_value=0.0)\n",
    "    #_st.taper(max_percentage=0.05)\n",
    "    _st.filter('highpass',freq=0.02,corners=2,zerophase=True)\n",
    "    _st.filter('lowpass',freq=0.5,corners=2,zerophase=True)\n",
    "    _st=st.trim(starttime=t0, endtime=t1, pad=True, nearest_sample=True, fill_value=0.0)\n",
    "    return _st\n",
    "\n",
    "def plot_data_syn(sts,station,deltas,legends,ax=False,channel='HNZ',filtering=True,\n",
    "                  noyticks=True,noxticks=True,channeltitle=False,datointegrate=False,origintimeshift=0):\n",
    "    dato=obspy.read('data_waveforms/'+station+'.'+channel)\n",
    "    t2=dato[0].times()\n",
    "    \n",
    "    if datointegrate: dato=dato.copy().integrate()\n",
    "    \n",
    "    if not ax:\n",
    "        plt.figure()\n",
    "        plt.plot(t2,dato[0].data*0.01,label='data',c='k')\n",
    "    else:\n",
    "        ax.plot(t2,dato[0].data*0.01,label='data',c='k')\n",
    "    \n",
    "    #colors=['r','g','b']\n",
    "    for st,c,delta,l in zip(sts,cols,deltas,legends):\n",
    "        synt=st.select(station=station,channel=channel)\n",
    "        one=synt.copy()\n",
    "        if filtering: one=processing(one)\n",
    "        t=one[0].times()\n",
    "    \n",
    "        if not ax:\n",
    "            plt.plot(t,one[0].data,label=l,c=c)\n",
    "            #plt.xlim([0,20])\n",
    "            plt.legend()\n",
    "            plt.title(station+'.'+channel)\n",
    "        else:\n",
    "            ax.plot(t,one[0].data,label=l,c=c)\n",
    "            ax.set_xlim([0,20])\n",
    "    if ax:\n",
    "        if noyticks:\n",
    "            plt.setp(ax.get_yticklabels(), visible=False)\n",
    "        if noxticks:\n",
    "            plt.setp(ax.get_xticklabels(), visible=False)\n",
    "        if channeltitle:\n",
    "            ax.set_title(channel[2])\n",
    "\n",
    "    "
   ]
  },
  {
   "cell_type": "code",
   "execution_count": null,
   "metadata": {
    "ExecuteTime": {
     "end_time": "2020-10-30T09:45:23.020996Z",
     "start_time": "2020-10-30T09:45:23.010897Z"
    }
   },
   "outputs": [],
   "source": [
    "def plot_seismograms(station,sts,labels):\n",
    "    fig = plt.figure(figsize=[20,4])\n",
    "    fig.tight_layout()\n",
    "    gs = gridspec.GridSpec(ncols=3, nrows=1, figure=fig)\n",
    "\n",
    "    ax_x    = fig.add_subplot( gs[0, 0])\n",
    "    ax_y    = fig.add_subplot( gs[0, 1], sharex=ax_x, sharey=ax_x)\n",
    "    ax_z    = fig.add_subplot( gs[0, 2], sharex=ax_x, sharey=ax_x)\n",
    "\n",
    "    o=0.\n",
    "    deltas=[sts[kmodel][0].stats.delta for kmodel in range(len(sts))]  \n",
    "    \n",
    "    plot_data_syn(sts,station,deltas,labels,ax=ax_x,channel='HNE',noyticks=False,noxticks=False,origintimeshift=o)\n",
    "    plot_data_syn(sts,station,deltas,labels,ax=ax_y,channel='HNN',noxticks=False,origintimeshift=o)\n",
    "    plot_data_syn(sts,station,deltas,labels,ax=ax_z,channel='HNZ',noxticks=False,origintimeshift=o)\n",
    "\n",
    "    ax_x.set_ylabel(station)\n",
    "    \n",
    "    plt.legend(loc='lower center',bbox_to_anchor=(0.5, .95),bbox_transform=fig.transFigure,ncol=3,fontsize=15)"
   ]
  },
  {
   "cell_type": "code",
   "execution_count": null,
   "metadata": {
    "ExecuteTime": {
     "end_time": "2020-10-30T09:46:02.711602Z",
     "start_time": "2020-10-30T09:46:02.017453Z"
    }
   },
   "outputs": [],
   "source": [
    "station='CLO'\n",
    "plot_seismograms(station,l_st_rot,model_names)"
   ]
  },
  {
   "cell_type": "code",
   "execution_count": null,
   "metadata": {
    "ExecuteTime": {
     "end_time": "2020-10-30T09:46:14.134176Z",
     "start_time": "2020-10-30T09:46:14.117242Z"
    }
   },
   "outputs": [],
   "source": [
    "def get_distance_trace(station,sts,filtering=True):\n",
    "    a = []\n",
    "    for st1 in sts:\n",
    "        traces=st1.select(station=station).copy()\n",
    "\n",
    "        if filtering: traces=processing(traces)\n",
    "        u=np.sqrt(traces[0].data**2+traces[1].data**2+traces[2].data**2)\n",
    "        t=traces[0].times()\n",
    "        a1= obspy.Stream()\n",
    "        stats = {'filename':'','starttime':'','sampling_rate':'','npts':'','network':'','station':'','channel':''}\n",
    "        stats['filename'] = ''\n",
    "        stats['starttime'] = 0\n",
    "        stats['delta']= traces[0].stats.delta\n",
    "        stats['sampling_rate'] = 1./traces[0].stats.delta\n",
    "        stats['npts'] = len(u)\n",
    "        stats['network'] = 'SEI'\n",
    "        stats['station'] = station\n",
    "        stats['channel'] = 'SQR'\n",
    "        a1.append(obspy.Trace(data=u, header=stats))\n",
    "        a.append(a1)\n",
    "        \n",
    "    dato=obspy.read('data_waveforms/'+station+'.*')\n",
    "    t2=dato[0].times()\n",
    "    d=np.sqrt(dato[0].data**2+dato[1].data**2+dato[2].data**2)*0.01\n",
    "    crit=t2<=t[-1]\n",
    "    t2=t2[crit]\n",
    "    d=d[crit]\n",
    "    ad= obspy.Stream()\n",
    "    stats = {'filename':'','starttime':'','sampling_rate':'','npts':'','network':'','station':'','channel':''}\n",
    "    stats['filename'] = ''\n",
    "    stats['starttime'] = 0\n",
    "    stats['delta']= traces[0].stats.delta\n",
    "    stats['sampling_rate'] = 1./traces[0].stats.delta\n",
    "    stats['npts'] = len(d)\n",
    "    stats['network'] = 'DAT'\n",
    "    stats['station'] = station\n",
    "    stats['channel'] = 'SQR'\n",
    "    ad.append(obspy.Trace(data=d, header=stats))\n",
    "    a.append(ad)\n",
    "    \n",
    "    return a"
   ]
  },
  {
   "cell_type": "code",
   "execution_count": null,
   "metadata": {
    "ExecuteTime": {
     "end_time": "2020-10-30T09:46:15.862908Z",
     "start_time": "2020-10-30T09:46:15.858058Z"
    }
   },
   "outputs": [],
   "source": [
    "def get_VR(a,b):\n",
    "    diffsquare=np.sum((a-b)**2)\n",
    "    energy=np.sum((b)**2)\n",
    "    VR=max(-100, 100*(1-diffsquare/energy))\n",
    "    return VR\n",
    "from obspy.signal.cross_correlation import correlate, xcorr_max\n",
    "def get_VRcc(a,b):\n",
    "    #+- 3s\n",
    "    cc = correlate(a, b, 30)\n",
    "    shift, value = xcorr_max(cc)\n",
    "    return max(-100, 100*value)"
   ]
  },
  {
   "cell_type": "code",
   "execution_count": null,
   "metadata": {
    "ExecuteTime": {
     "end_time": "2020-10-30T09:47:30.958823Z",
     "start_time": "2020-10-30T09:46:50.142824Z"
    },
    "scrolled": false
   },
   "outputs": [],
   "source": [
    "keys=namestations.keys()\n",
    "#keys.sort()\n",
    "#keys=keys\n",
    "\n",
    "if len(keys) > 1: \n",
    "    ncols=17\n",
    "else:\n",
    "    ncols=3\n",
    "    \n",
    "nrows=int(len(keys)/2)\n",
    "o=0.\n",
    "\n",
    "fig = plt.figure(figsize=[25,2*nrows])\n",
    "fig.tight_layout()\n",
    "gs = gridspec.GridSpec(ncols=ncols, nrows=nrows, figure=fig)\n",
    "\n",
    "vrs=[[] for kmodel in range(len(l_st_rot))]\n",
    "vrscc=[[] for kmodel in range(len(l_st_rot))]\n",
    "\n",
    "for inum,ikey in enumerate(keys):\n",
    "    station=namestations[ikey]['name']\n",
    "    irow=int(inum/2)\n",
    "    if inum%2 == 0 :\n",
    "        icol=0\n",
    "    else:\n",
    "        icol=1\n",
    "    \n",
    "\n",
    "    #print(inum,nrows,irow,icol,6*icol+0+icol,6*icol+0+icol+2)\n",
    "    ax_x    = fig.add_subplot( gs[irow, 8*icol+0+icol:8*icol+0+icol+2])\n",
    "    ax_y    = fig.add_subplot( gs[irow, 8*icol+2+icol:8*icol+2+icol+2], sharex=ax_x, sharey=ax_x)\n",
    "    ax_z    = fig.add_subplot( gs[irow, 8*icol+4+icol:8*icol+4+icol+2], sharex=ax_x, sharey=ax_x)\n",
    "    ax_d    = fig.add_subplot( gs[irow, 8*icol+6+icol:8*icol+6+icol+2], sharex=ax_x, sharey=ax_x)\n",
    "    ax_x.set_ylabel(station)\n",
    "    \n",
    "    if inum == len(keys)-1 or inum == len(keys)-2:\n",
    "        noxticks = False\n",
    "    else:\n",
    "        noxticks = True\n",
    "    \n",
    "    if irow == 0:\n",
    "        channeltitle = True\n",
    "    else:\n",
    "        channeltitle=False\n",
    "\n",
    "    deltas=[l_st_rot[kmodel][0].stats.delta for kmodel in range(len(l_st_rot))]  \n",
    "    \n",
    "    plot_data_syn(l_st_rot,station,deltas,\n",
    "                  model_names, ax=ax_x,channel='HNE',\n",
    "                  channeltitle=channeltitle,noxticks=noxticks,noyticks=False,origintimeshift=o)\n",
    "    \n",
    "    plot_data_syn(l_st_rot,station,deltas,\n",
    "                  model_names, ax=ax_y,channel='HNN',\n",
    "                  channeltitle=channeltitle,noxticks=noxticks,origintimeshift=o)\n",
    "    \n",
    "    plot_data_syn(l_st_rot,station,deltas,\n",
    "                  model_names, ax=ax_z,channel='HNZ',\n",
    "                  channeltitle=channeltitle,noxticks=noxticks,origintimeshift=o)\n",
    "    \n",
    "    a=get_distance_trace(station,l_st_rot,filtering=True)\n",
    "    ad = a.pop()\n",
    "    \n",
    "    for kmodel in range(len(a)):\n",
    "        vr = get_VR(a[kmodel][0].data,ad[0].data)\n",
    "        ax_d.plot(a[kmodel][0].times(),a[kmodel][0].data,cols[kmodel],label='%.0f' %(vr))\n",
    "        vrs[kmodel].append(vr)\n",
    "        vrcc = get_VRcc(a[kmodel][0].data,ad[0].data)\n",
    "        vrscc[kmodel].append(vrcc)\n",
    "        \n",
    "    ax_d.plot(ad[0].times(),ad[0].data,'k')\n",
    "    plt.setp(ax_d.get_yticklabels(), visible=False)\n",
    "    if noxticks:\n",
    "        plt.setp(ax_d.get_xticklabels(), visible=False)\n",
    "    if channeltitle:\n",
    "        ax_d.set_title('3D')\n",
    "    ax_d.legend(ncol=2)\n",
    "\n",
    "    #plot_data_syn(displ,station,ax=ax_x,channel='HNE',channeltitle=channeltitle,noxticks=noxticks,noyticks=False,datointegrate=True)\n",
    "    #plot_data_syn(displ,station,ax=ax_y,channel='HNN',channeltitle=channeltitle,noxticks=noxticks,datointegrate=True)\n",
    "    #plot_data_syn(displ,station,ax=ax_z,channel='HNZ',channeltitle=channeltitle,noxticks=noxticks,datointegrate=True)\n",
    "\n",
    "ax_x.legend(loc='center',bbox_to_anchor=(0.5, .9),bbox_transform=fig.transFigure,ncol=3,fontsize=20)\n",
    "\n",
    "file='norcia_2fault_faultslip'\n",
    "#plt.savefig(file+'.png',dpi=300)\n",
    "plt.savefig(file+'.pdf')\n",
    "#!pwd"
   ]
  },
  {
   "cell_type": "code",
   "execution_count": null,
   "metadata": {
    "ExecuteTime": {
     "end_time": "2020-10-30T09:48:06.973118Z",
     "start_time": "2020-10-30T09:48:06.016793Z"
    }
   },
   "outputs": [],
   "source": [
    "print('VR based on L2 norm')\n",
    "for k, vr1s in enumerate(vrs):\n",
    "    vr1s=np.array(vr1s)\n",
    "    crit=vr1s>-100\n",
    "    VR1TOT=vr1s[crit].mean()\n",
    "    VR2TOT=np.median(vr1s[crit])\n",
    "    print(\"%s %.2f %.2f\" %(model_names[k], VR1TOT, VR2TOT))\n",
    "\n",
    "print('\\nVR based on max cross correlation')\n",
    "for k, vr1s in enumerate(vrscc):\n",
    "    vr1s=np.array(vr1s)\n",
    "    crit=vr1s>-100\n",
    "    VR1TOT=vr1s[crit].mean()\n",
    "    VR2TOT=np.median(vr1s[crit])\n",
    "    print(\"%s %.2f %.2f\" %(model_names[k], VR1TOT, VR2TOT))"
   ]
  },
  {
   "cell_type": "code",
   "execution_count": null,
   "metadata": {},
   "outputs": [],
   "source": [
    "plt.figure(figsize=[10,10])\n",
    "stations=namestations.keys()\n",
    "\n",
    "for kmodel in range(len(l_st_rot)):\n",
    "    xs = []\n",
    "    ys = []\n",
    "    for s in stations:\n",
    "        #print(namestations[s], vr2s[int(s)-1])\n",
    "        a,b = utm33(namestations[s]['lon']-(len(l_st_rot)-kmodel-1)*0.015,namestations[s]['lat'])\n",
    "        xs.append(a)\n",
    "        ys.append(b)\n",
    "    sc = plt.scatter(xs, ys, c = vrs[kmodel], cmap='hot', edgecolors='k')\n",
    "plt.colorbar(sc)\n",
    "\n",
    "for s in stations:\n",
    "    plt.text(*utm33(namestations[s]['lon']+.01,namestations[s]['lat']),namestations[s]['name'],fontsize=12)\n",
    "\n",
    "ax=plt.gca()\n",
    "ax.set_aspect('equal')\n",
    "draw_faults()"
   ]
  },
  {
   "cell_type": "code",
   "execution_count": null,
   "metadata": {},
   "outputs": [],
   "source": []
  }
 ],
 "metadata": {
  "kernelspec": {
   "display_name": "Python 3",
   "language": "python",
   "name": "python3"
  },
  "language_info": {
   "codemirror_mode": {
    "name": "ipython",
    "version": 3
   },
   "file_extension": ".py",
   "mimetype": "text/x-python",
   "name": "python",
   "nbconvert_exporter": "python",
   "pygments_lexer": "ipython3",
   "version": "3.7.4"
  },
  "toc": {
   "base_numbering": 1,
   "nav_menu": {},
   "number_sections": true,
   "sideBar": true,
   "skip_h1_title": false,
   "title_cell": "Table of Contents",
   "title_sidebar": "Contents",
   "toc_cell": false,
   "toc_position": {},
   "toc_section_display": true,
   "toc_window_display": false
  },
  "varInspector": {
   "cols": {
    "lenName": 16,
    "lenType": 16,
    "lenVar": 40
   },
   "kernels_config": {
    "python": {
     "delete_cmd_postfix": "",
     "delete_cmd_prefix": "del ",
     "library": "var_list.py",
     "varRefreshCmd": "print(var_dic_list())"
    },
    "r": {
     "delete_cmd_postfix": ") ",
     "delete_cmd_prefix": "rm(",
     "library": "var_list.r",
     "varRefreshCmd": "cat(var_dic_list()) "
    }
   },
   "types_to_exclude": [
    "module",
    "function",
    "builtin_function_or_method",
    "instance",
    "_Feature"
   ],
   "window_display": false
  }
 },
 "nbformat": 4,
 "nbformat_minor": 2
}
