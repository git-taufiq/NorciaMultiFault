{
 "cells": [
  {
   "cell_type": "markdown",
   "metadata": {},
   "source": [
    "<div style='background-image: url(\"../../share/images/header.svg\") ; padding: 0px ; background-size: cover ; border-radius: 5px ; height: 250px'>\n",
    "    <div style=\"float: right ; margin: 50px ; padding: 20px ; background: rgba(255 , 255 , 255 , 0.7) ; width: 50% ; height: 150px\">\n",
    "        <div style=\"position: relative ; top: 50% ; transform: translatey(-50%)\">\n",
    "            <div style=\"font-size: xx-large ; font-weight: 900 ; color: rgba(0 , 0 , 0 , 0.8) ; line-height: 100%\">Constraining the multi-fault rupture dynamics of the Mw 6.5 Norcia earthquake, Italy</div>\n",
    "            <div style=\"font-size: large ; padding-top: 20px ; color: rgba(0 , 0 , 0 , 0.5)\">Elisa Tinti, Emanuele Casarotti, Alice Agnes Gabriel, Taufiqurrahman, Duo Li, Thomas Ulrich</div>\n",
    "        </div>\n",
    "    </div>\n",
    "</div>"
   ]
  },
  {
   "cell_type": "markdown",
   "metadata": {},
   "source": [
    "In this notebook, we will prepare input for dynamic models using SeisSol (http://www.seissol.org) and reproduce figures shown in Tinti et. al., (2021), also discuss simulation output to study how the rupture history on the fault planes may evolve assuming different heterogeneous distribution of dynamic parameters, and to investigate if such model can match specific features of the Norcia, 30 October 2016, Mw6.5 event.  Our main goal is to assess the mechanical viability of the complex kinematic model proposed by Scognamiglio  et  al. (2017),  S18 hereinafter, testing if there are dynamic models with the same kinematic features able to spontaneously propagate. We therefore search for ”families” of plausible dynamic models  that share similar dynamic features and are able to reproduce specific kinematic characteristics.\n",
    "\n",
    "Let's get started!"
   ]
  },
  {
   "cell_type": "code",
   "execution_count": null,
   "metadata": {},
   "outputs": [],
   "source": [
    "# Import modules and setup \n",
    "%matplotlib inline\n",
    "# %load_ext watermark\n",
    "import matplotlib.pyplot as plt\n",
    "from netCDF4 import Dataset\n",
    "from scipy.interpolate import interp1d\n",
    "import numpy as np\n",
    "from mpl_toolkits.mplot3d import Axes3D\n",
    "from scipy.spatial.transform import Rotation as R\n",
    "import glob\n",
    "import pandas as pd\n",
    "import json\n",
    "\n",
    "import matplotlib as mpl\n",
    "label_size = 10\n",
    "mpl.rcParams['xtick.labelsize'] = label_size\n",
    "mpl.rcParams['ytick.labelsize'] = label_size\n",
    "mpl.rcParams['axes.labelsize'] = 11\n",
    "mpl.rcParams['axes.titlesize'] = 13\n",
    "mpl.rcParams['figure.titlesize'] = 20\n",
    "\n",
    "import pyproj\n",
    "utm33 = pyproj.Proj(\"+proj=utm +zone=33, +north +ellps=WGS84 +datum=WGS84 +units=m +no_defs\")\n",
    "# %watermark -iv"
   ]
  },
  {
   "cell_type": "markdown",
   "metadata": {},
   "source": [
    "First, we define some useful functions as below:"
   ]
  },
  {
   "cell_type": "code",
   "execution_count": null,
   "metadata": {
    "ExecuteTime": {
     "end_time": "2020-12-02T13:21:37.934218Z",
     "start_time": "2020-12-02T13:21:37.902127Z"
    }
   },
   "outputs": [],
   "source": [
    "import matplotlib\n",
    "from matplotlib.patches import Polygon\n",
    "from matplotlib.collections import PatchCollection\n",
    "import matplotlib.lines as mlines\n",
    "\n",
    "def plot_topview_2faults(ax, v_a, v_b, vmin, vmax, txt, cmap='magma_r',\n",
    "                         fmat=\"%.1f\", shiftx=10000, shifty=7000, colors=None,\n",
    "                         quiver=False,profile=False):\n",
    "    \n",
    "    title=txt.split('[')[0]\n",
    "    try:\n",
    "        umis='['+txt.split('[')[1]\n",
    "    except:\n",
    "        umis=''\n",
    "    if v_a is not None and quiver is False:\n",
    "        cont = ax.contourf(utmx_a, utmy_a, v_a, levels=50,\n",
    "                           vmin=vmin, vmax=vmax, cmap=cmap)\n",
    "        cont2 = ax.contourf(utmx_b-shiftx, utmy_b-shifty, v_b, levels=50,\n",
    "                            alpha=1, vmin=vmin, vmax=vmax, cmap=cmap)\n",
    "    elif quiver is False:\n",
    "        cont = ax.contourf(utmx_a, utmy_a, utmx_a*0, levels=50,\n",
    "                           vmin=vmin, vmax=vmax, cmap=cmap)\n",
    "        cont2 = ax.contourf(utmx_b-shiftx, utmy_b-shifty, utmx_b*0, levels=50,\n",
    "                            alpha=1, vmin=vmin, vmax=vmax, cmap=cmap)\n",
    "\n",
    "    patches = []\n",
    "    polygon = Polygon(poly_a, True)\n",
    "    patches.append(polygon)\n",
    "    #polygon = Polygon(poly_b, True)\n",
    "    #patches.append(polygon)\n",
    "    polygon = Polygon(poly_c, True)\n",
    "    patches.append(polygon)\n",
    "    p = PatchCollection(patches, facecolor='none',\n",
    "                        edgecolor='k', linewidth=2, alpha=1)\n",
    "    ax.add_collection(p)\n",
    "\n",
    "    patches = []\n",
    "    polygon = Polygon(poly_b, True)\n",
    "    patches.append(polygon)\n",
    "    px = [utmx_b[b2]-shiftx, utmx_b[b2]]\n",
    "    py = [utmy_b[b2]-shifty, utmy_b[b2]]\n",
    "    line = mlines.Line2D(px, py)\n",
    "    patches.append(line)\n",
    "    px = [utmx_b[b3]-shiftx, utmx_b[b3]]\n",
    "    py = [utmy_b[b3]-shifty, utmy_b[b3]]\n",
    "    line = mlines.Line2D(px, py)\n",
    "    patches.append(line)\n",
    "    px = [utmx_b[b4]-shiftx, utmx_b[b4]]\n",
    "    py = [utmy_b[b4]-shifty, utmy_b[b4]]\n",
    "    line = mlines.Line2D(px, py)\n",
    "    patches.append(line)\n",
    "    p = PatchCollection(patches, facecolor='none',\n",
    "                        edgecolor='k', linewidth=1, alpha=0.6)\n",
    "    ax.add_collection(p)\n",
    "\n",
    "    # cont = ax.pcolor(utmx_a, utmy_a, v_a,\n",
    "    #                   vmin=vmin, vmax=vmax, cmap=cmap)\n",
    "    # cont2 = ax.pcolor(utmx_b, utmy_b, v_b,\n",
    "    #                     vmin=vmin, vmax=vmax, cmap=cmap)\n",
    "    #\n",
    "\n",
    "    norm = matplotlib.colors.Normalize(vmin=vmin, vmax=vmax)\n",
    "    if v_a is not None:\n",
    "        if type(cmap) == matplotlib.colors.ListedColormap:\n",
    "            if len(colors) == 2:\n",
    "                length = (vmax-vmin)/2.\n",
    "                clb = plt.colorbar(matplotlib.cm.ScalarMappable(norm=norm, cmap=cmap), ticks=[\n",
    "                    vmin+length/2., vmax-length/2.], spacing='proportional', format=fmat, orientation='horizontal')\n",
    "                clb.ax.set_xticklabels([vmin, vmax])\n",
    "            elif len(colors) == 1:\n",
    "                clb = plt.colorbar(matplotlib.cm.ScalarMappable(norm=norm, cmap=cmap), ticks=[\n",
    "                    vmin], spacing='proportional', format=fmat, orientation='horizontal')\n",
    "                clb.ax.set_xticklabels([round(vmin,1)])\n",
    "    \n",
    "        else:\n",
    "            clb = plt.colorbar(matplotlib.cm.ScalarMappable(norm=norm, cmap=cmap), ticks=np.linspace(\n",
    "                vmin, vmax, 3), spacing='proportional', format=fmat, orientation='horizontal')\n",
    "        clb.set_label(umis)\n",
    "    else:\n",
    "        clb = plt.colorbar(matplotlib.cm.ScalarMappable(norm=norm, cmap=cmap), ticks=[],\n",
    "                           spacing='proportional', format=fmat, orientation='horizontal')\n",
    "        clb.outline.set_visible(False)\n",
    "        \n",
    "    if quiver:\n",
    "        decimation=5\n",
    "        U = np.cos(np.radians(-65+rake_a))\n",
    "        V = np.sin(np.radians(-65+rake_a))\n",
    "        ax.quiver(utmx_a[::decimation, ::decimation], \n",
    "                  utmy_a[::decimation, ::decimation], \n",
    "                  U[::decimation, ::decimation], V[::decimation, ::decimation],\n",
    "                  color='k',\n",
    "                  width=.026,alpha=1,cmap=cmap,norm=norm)\n",
    "        ax.quiver(utmx_a[::decimation, ::decimation], \n",
    "                  utmy_a[::decimation, ::decimation], \n",
    "                  U[::decimation, ::decimation], V[::decimation, ::decimation],\n",
    "                  v_a[::decimation, ::decimation],\n",
    "                  width=.025,alpha=1,cmap=cmap,norm=norm)\n",
    "        U = np.cos(np.radians(-120+rake_b))\n",
    "        V = np.sin(np.radians(-120+rake_b))\n",
    "        ax.quiver(utmx_b[::decimation, ::decimation]-shiftx, \n",
    "                  utmy_b[::decimation, ::decimation]-shifty, \n",
    "                  U[::decimation, ::decimation], V[::decimation, ::decimation],\n",
    "                  color='k',\n",
    "                  width=.026,alpha=1,cmap=cmap,norm=norm)\n",
    "        ax.quiver(utmx_b[::decimation, ::decimation]-shiftx, \n",
    "                  utmy_b[::decimation, ::decimation]-shifty, \n",
    "                  U[::decimation, ::decimation], V[::decimation, ::decimation],\n",
    "                  v_b[::decimation, ::decimation],\n",
    "                  width=.025,alpha=1,cmap=cmap,norm=norm)\n",
    "    \n",
    "    if profile:\n",
    "        ax.plot(utmx_a[l,:],utmy_a[l,:],'r--',lw=2)\n",
    "    \n",
    "    ax.set_title(title)\n",
    "    ax.set_aspect('equal')\n",
    "    ax.set_xticks(labelx)\n",
    "    ax.set_xticklabels([round(xl, 2) for xl in labellon])\n",
    "    ax.set_xlim(utmx_a.min()-shiftx, utmx_a.max())\n",
    "    ax.set_yticks(labely)\n",
    "    ax.set_yticklabels([round(xl, 2) for xl in labellat])\n",
    "    #ax.set_ylim(utmy_a.min(), utmy_a.max())\n",
    "    ax.set_axis_off()\n",
    "    \n",
    "def rotate(sxx, syy, sxy, sxz, syz, szz=0, thetax=0, thetay=0, thetaz=0):\n",
    "    rad_thetax = np.radians(thetax)\n",
    "    rad_thetay = np.radians(thetay)\n",
    "    rad_thetaz = np.radians(thetaz)\n",
    "    cx = np.cos(rad_thetax)\n",
    "    cy = np.cos(rad_thetay)\n",
    "    cz = np.cos(rad_thetaz)\n",
    "    sx = np.sin(rad_thetax)\n",
    "    sy = np.sin(rad_thetay)\n",
    "    sz = np.sin(rad_thetaz)\n",
    "\n",
    "    Tx = np.array([[1, 0, 0],\n",
    "                      [0, cx, -sx],\n",
    "                      [0, sx,  cx]])\n",
    "    Ty = np.array([[cy, 0, -sy],\n",
    "                      [0, 1, 0],\n",
    "                      [sy, 0, cy]])\n",
    "    Tz = np.array([[cz, -sz, 0],\n",
    "                      [sz, cz, 0],\n",
    "                      [0, 0, 1]])\n",
    "\n",
    "    A = np.array([[sxx, sxy, sxz],\n",
    "                     [sxy, syy, syz],\n",
    "                     [sxz, syz,  szz]])\n",
    "\n",
    "    A_tempx = np.matmul(np.matmul(Tx, A), np.transpose(Tx))\n",
    "    A_tempy = np.matmul(np.matmul(Ty, A_tempx), np.transpose(Ty))\n",
    "    Stress_in_global_xyz = np.matmul(\n",
    "        np.matmul(Tz, A_tempy), np.transpose(Tz))\n",
    "\n",
    "    return A, Stress_in_global_xyz\n",
    "\n",
    "def rotating_stress_tensor(stress_a, stress_b,rake_a=None,rake_b=None):\n",
    "    s_yy_a = 0.*tmp_a.ravel()\n",
    "    s_zz_a = 0.*tmp_a.ravel()\n",
    "    s_yz_a = 0.*tmp_a.ravel()\n",
    "    s_xx_a = 0*tmp_a.ravel()\n",
    "    s_xz_a = 0*tmp_a.ravel()\n",
    "    s_xy_a = 0*tmp_a.ravel()\n",
    "    \n",
    "    if rake_a is not None:\n",
    "        stress_a_0=stress_a*np.cos(np.radians(rake_a))\n",
    "        stress_a_90=-stress_a*np.sin(np.radians(rake_a))\n",
    "    else:\n",
    "        stress_a_0=stress_a\n",
    "        stress_a_90=stress_a\n",
    "    \n",
    "    for i,(s0,s90,sn) in enumerate(zip(stress_a_0.ravel(),stress_a_90.ravel(),NORMAL_STRESS_a.ravel())):\n",
    "        _,snew=rotate(sxx=0,syy=-sn*1e6,sxy=-s0*1e6,sxz=0,syz=s90*1e6,szz=0,thetax=dip_a-90,thetay=0,thetaz=90-strike_a)\n",
    "\n",
    "        s_yy_a[i] = snew[1, 1]\n",
    "        s_zz_a[i] = snew[2, 2]\n",
    "        s_yz_a[i] = snew[2, 1]\n",
    "        s_xx_a[i] = snew[0, 0]\n",
    "        s_xz_a[i] = snew[2, 0]\n",
    "        s_xy_a[i] = snew[1, 0]\n",
    "\n",
    "    s_yy_a.shape = stress_a.shape\n",
    "    s_zz_a.shape = stress_a.shape\n",
    "    s_yz_a.shape = stress_a.shape\n",
    "    s_xx_a.shape = stress_a.shape\n",
    "    s_xz_a.shape = stress_a.shape\n",
    "    s_xy_a.shape = stress_a.shape\n",
    "\n",
    "    s_yy_b = 0.*tmp_b.ravel()\n",
    "    s_zz_b = 0.*tmp_b.ravel()\n",
    "    s_yz_b = 0.*tmp_b.ravel()\n",
    "    s_xx_b = 0*tmp_b.ravel()\n",
    "    s_xz_b = 0*tmp_b.ravel()\n",
    "    s_xy_b = 0*tmp_b.ravel()\n",
    "    \n",
    "    if rake_b is not None:\n",
    "        stress_b_0=stress_b*np.cos(np.radians(rake_b))\n",
    "        stress_b_90=-stress_b*np.sin(np.radians(rake_b))\n",
    "    else:\n",
    "        stress_b_0=stress_b\n",
    "        stress_b_90=stress_b\n",
    "        \n",
    "    for i,(s0b,s90b,sn) in enumerate(zip(stress_b_0.ravel(),stress_b_90.ravel(),NORMAL_STRESS_b.ravel())):\n",
    "        _,snew=rotate(sxx=0,syy=-sn*1e6,sxy=-s0b*1e6,sxz=0,syz=s90b*1e6,szz=0,thetax=dip_b-90,thetay=0,thetaz=90-strike_b) #beware of the negative sign of sn\n",
    "        \n",
    "    # beware of the negative sign of sn\n",
    "        s_yy_b[i] = snew[1, 1]\n",
    "        s_zz_b[i] = snew[2, 2]\n",
    "        s_yz_b[i] = snew[2, 1]\n",
    "        s_xx_b[i] = snew[0, 0]\n",
    "        s_xz_b[i] = snew[2, 0]\n",
    "        s_xy_b[i] = snew[1, 0]\n",
    "\n",
    "    s_yy_b.shape = stress_b.shape\n",
    "    s_zz_b.shape = stress_b.shape\n",
    "    s_yz_b.shape = stress_b.shape\n",
    "    s_xx_b.shape = stress_b.shape\n",
    "    s_xz_b.shape = stress_b.shape\n",
    "    s_xy_b.shape = stress_b.shape\n",
    "    \n",
    "    return s_yy_a, s_zz_a, s_yz_a, s_xx_a, s_xz_a, s_xy_a, s_yy_b, s_zz_b, s_yz_b, s_xx_b, s_xz_b, s_xy_b"
   ]
  },
  {
   "cell_type": "markdown",
   "metadata": {},
   "source": [
    "## Fault Geometry\n",
    "\n",
    "The fault geometry proposed in this study is derived from Scognamiglio et al. (2018) and is composed of two faults:  a main fault striking N155° trending along the Apennines and dipping 47° to  the  SW  (hereinafter  F155),  and  a  second  fault  plane  striking  N210° oblique  to the  Apennines  and  dipping  36° to  the  NW  (hereinafter  F210).   The  main  fault  is  34 km long and 16 km downdip wide, while the secondary fault is 10 km long and 14 km wide.   F155 reaches the modeled  free surface,  while  the  top  border  of  F210  is  1.8  km below  the  modeled  ground  surface.\n",
    "\n",
    "In the local mesh reference system, fault F155 strike direction is along X-axis, Y-axis is perpendicular to X-axis and Z-axis is positive upward.\n",
    "\n",
    "The orientation of the reference system has been defined for simplifying the orientation of the 2 faults: the x axis is parallel to the strike vector of the fault F155, the y axis is perpendicular with the positive direction in the F155 footwall space."
   ]
  },
  {
   "cell_type": "code",
   "execution_count": null,
   "metadata": {
    "ExecuteTime": {
     "end_time": "2020-12-02T13:21:42.594533Z",
     "start_time": "2020-12-02T13:21:42.588295Z"
    }
   },
   "outputs": [],
   "source": [
    "fault155_dip=90-47 # starting from z-\n",
    "fault155_strike=0 # fault155 is oriented along x\n",
    "\n",
    "rx1 = R.from_euler('x', -fault155_dip, degrees=True) # around X for dip \n",
    "rx2 = R.from_euler('z', fault155_strike, degrees=True) # around Z for strike\n",
    "rx = rx2*rx1\n",
    "\n",
    "fault210_dip=90-36 # starting from z-\n",
    "fault210_strike=-55 # fault210 strike is 155-210 where 155 is oriented along x\n",
    "\n",
    "nx1 = R.from_euler('x', -fault210_dip, degrees=True) #around X for dip \n",
    "nx2 = R.from_euler('z', fault210_strike, degrees=True) #around Z for strike\n",
    "nx = nx2*nx1\n",
    "\n",
    "nx3 =R.from_euler('y',-5.86085404017178, degrees=True)\n",
    "px=nx3*nx2*nx1\n",
    "px2=nx*nx3\n",
    "\n",
    "n155=rx.apply([0,-1,0]) #rotation\n",
    "print('F155 normal',n155)\n",
    "\n",
    "n210=nx.apply([0,-1,0]) #rotation \n",
    "print('F210 normal',n210)\n",
    "\n",
    "retta = np.cross(n210,n155)\n",
    "retta = retta/np.linalg.norm(retta)\n",
    "print ('F210 dip direction',retta)\n",
    "\n",
    "# find perpendicular to retta and normal to 210\n",
    "perp=np.cross(retta,n210)\n",
    "perp=perp/np.linalg.norm(perp)\n",
    "print('F210 strike direction',perp)"
   ]
  },
  {
   "cell_type": "code",
   "execution_count": null,
   "metadata": {
    "ExecuteTime": {
     "end_time": "2020-12-02T13:21:46.810991Z",
     "start_time": "2020-12-02T13:21:46.805201Z"
    }
   },
   "outputs": [],
   "source": [
    "origin = [348441.37745855964, 4760209.936366674, 0]\n",
    "hypocenter = [345545.0171306281 - origin[0],\n",
    "              4744751.470962405 - origin[1],\n",
    "              -9520.0]\n",
    "\n",
    "rotz = R.from_euler('z', -90+155, degrees=True)\n",
    "_hypo_meshcoord = rotz.apply(hypocenter)\n",
    "\n",
    "epicenter = _hypo_meshcoord-[17000, 0, 0] #traslation\n",
    "zhypo = -(n155[0]*epicenter[0]+n155[1]*epicenter[1])/n155[2] #depth along dip\n",
    "hypo_meshcoord=np.array([epicenter[0], epicenter[1], zhypo])\n",
    "\n",
    "firstcorner = hypo_meshcoord-500*retta\n",
    "secondcorner = firstcorner+14000*retta\n",
    "thirdcorner = firstcorner+10000*perp\n",
    "forthcorner = secondcorner+10000*perp"
   ]
  },
  {
   "cell_type": "code",
   "execution_count": null,
   "metadata": {
    "ExecuteTime": {
     "end_time": "2020-12-02T13:21:52.940888Z",
     "start_time": "2020-12-02T13:21:52.938241Z"
    }
   },
   "outputs": [],
   "source": [
    "# reference coordinates\n",
    "hypocenter_geo = [13.11, 42.8398, -9.52*1000]\n",
    "\n",
    "# geometry of F155 \n",
    "dip_a = 47.\n",
    "strike_a = 90.  # because the main fault F155 is along x axis\n",
    "\n",
    "step = 200.  # meters\n",
    "nz0_a = 33\n",
    "nx0_a = 69\n",
    "tmp_a = np.ones([nx0_a, nz0_a])\n",
    "\n",
    "# geometry of F210 \n",
    "dip_b = 36.\n",
    "strike_b = 145.  # because the main fault F155 is along x axis, 210-155+90\n",
    "\n",
    "directiondip = retta.copy()\n",
    "directiondip.shape = (3, 1)\n",
    "directionstrike = perp.copy()\n",
    "directionstrike.shape = (3, 1)\n",
    "\n",
    "step = 200.  # meters\n",
    "nz0_b = 29\n",
    "nx0_b = 21\n",
    "tmp_b = np.ones([nx0_b, nz0_b])"
   ]
  },
  {
   "cell_type": "markdown",
   "metadata": {},
   "source": [
    "## Nucleation\n",
    "\n",
    "We use the nucleation  strategy  proposed  by  SCEC  is  to  gradually  reduce  of  the  yield  strength  in  an  circular  area  centered  at  the hypocenter  expending  at  a  time-decreasing  speed.   This  allows  a  gradually  transition from a forced rupture to a spontaneous dynamic rupture propagation.  The gradual reduction of yield strength down to the dynamic frictional resistance and the assumptionof an initial stress very close to the dynamic frictional resistance around the nucleation can limit fault slip in the nucleation area. For the models proposed in this work we choose Vr= 0.7, Vs= 2.8 km/s and a nucleation length of 4-6 km."
   ]
  },
  {
   "cell_type": "code",
   "execution_count": null,
   "metadata": {
    "ExecuteTime": {
     "end_time": "2020-12-02T13:21:48.848584Z",
     "start_time": "2020-12-02T13:21:48.845019Z"
    }
   },
   "outputs": [],
   "source": [
    "# from SCEC\n",
    "def nu(r,Vs=4000,r_crit=3000): \n",
    "    return r/(0.7*Vs)+(0.081*r_crit/(0.7*Vs))*(1.0/(1.0-pow(r/r_crit, 2.0))-1.0)"
   ]
  },
  {
   "cell_type": "code",
   "execution_count": null,
   "metadata": {
    "ExecuteTime": {
     "end_time": "2020-12-02T13:21:50.268075Z",
     "start_time": "2020-12-02T13:21:49.988813Z"
    }
   },
   "outputs": [],
   "source": [
    "rra=np.arange(0.01,3000,100)\n",
    "y=nu(rra);\n",
    "plt.figure()\n",
    "plt.plot(rra,y)\n",
    "plt.figure()\n",
    "plt.plot(rra,rra/y)"
   ]
  },
  {
   "cell_type": "markdown",
   "metadata": {},
   "source": [
    "## Kinematic model proposed by Scognamiglio et al. (2018)"
   ]
  },
  {
   "cell_type": "code",
   "execution_count": null,
   "metadata": {
    "ExecuteTime": {
     "end_time": "2020-12-02T13:22:02.650327Z",
     "start_time": "2020-12-02T13:22:02.647875Z"
    }
   },
   "outputs": [],
   "source": [
    "# % lon lat depth(km) x(km) y(km) dx dy slip(m) rake dip strike timerup(s) rise(s)\n",
    "slipfile_a = 'modelloAAgeorefzeroshallowslip.out'\n",
    "slipfile_b = 'modelloBBgeoref.out'"
   ]
  },
  {
   "cell_type": "code",
   "execution_count": null,
   "metadata": {
    "ExecuteTime": {
     "end_time": "2020-12-02T13:22:03.788689Z",
     "start_time": "2020-12-02T13:22:03.753684Z"
    }
   },
   "outputs": [],
   "source": [
    "d_a = np.loadtxt(slipfile_a, skiprows=1, delimiter=' ',\n",
    "                 usecols=[0, 1, 2, 3, 4, 7, 8])\n",
    "d_b = np.loadtxt(slipfile_b, skiprows=1, delimiter=' ',\n",
    "                 usecols=[0, 1, 2, 3, 4, 7, 8])"
   ]
  },
  {
   "cell_type": "code",
   "execution_count": null,
   "metadata": {
    "ExecuteTime": {
     "end_time": "2020-12-02T13:22:04.812804Z",
     "start_time": "2020-12-02T13:22:04.809153Z"
    }
   },
   "outputs": [],
   "source": [
    "lons_a = d_a[:, 0]\n",
    "lats_a = d_a[:, 1]\n",
    "depths_a = d_a[:, 2]*1000\n",
    "xs_a = d_a[:, 3]\n",
    "ys_a = d_a[:, 4]\n",
    "slip_a = d_a[:, 5]\n",
    "rake_a = d_a[:, 6]"
   ]
  },
  {
   "cell_type": "code",
   "execution_count": null,
   "metadata": {
    "ExecuteTime": {
     "end_time": "2020-12-02T13:22:05.900948Z",
     "start_time": "2020-12-02T13:22:05.897191Z"
    }
   },
   "outputs": [],
   "source": [
    "lons_b = d_b[:, 0]\n",
    "lats_b = d_b[:, 1]\n",
    "depths_b = d_b[:, 2]*1000\n",
    "xs_b = d_b[:, 3]\n",
    "ys_b = d_b[:, 4]\n",
    "slip_b = d_b[:, 5]\n",
    "rake_b = d_b[:, 6]"
   ]
  },
  {
   "cell_type": "code",
   "execution_count": null,
   "metadata": {
    "ExecuteTime": {
     "end_time": "2020-12-02T13:22:07.093515Z",
     "start_time": "2020-12-02T13:22:07.089961Z"
    }
   },
   "outputs": [],
   "source": [
    "slip_b.shape = (nx0_b, nz0_b)\n",
    "lons_b.shape = (nx0_b, nz0_b)\n",
    "lats_b.shape = (nx0_b, nz0_b)\n",
    "xs_b.shape = (nx0_b, nz0_b)\n",
    "ys_b.shape = (nx0_b, nz0_b)\n",
    "depths_b.shape = (nx0_b, nz0_b)  # vertical along z coordinates\n",
    "rake_b.shape = (nx0_b, nz0_b)"
   ]
  },
  {
   "cell_type": "code",
   "execution_count": null,
   "metadata": {
    "ExecuteTime": {
     "end_time": "2020-12-02T13:22:08.192587Z",
     "start_time": "2020-12-02T13:22:08.188798Z"
    }
   },
   "outputs": [],
   "source": [
    "slip_a.shape = (nx0_a, nz0_a)\n",
    "lons_a.shape = (nx0_a, nz0_a)\n",
    "lats_a.shape = (nx0_a, nz0_a)\n",
    "xs_a.shape = (nx0_a, nz0_a)\n",
    "ys_a.shape = (nx0_a, nz0_a)\n",
    "depths_a.shape = (nx0_a, nz0_a)  # vertical along z coordinates\n",
    "rake_a.shape = (nx0_a, nz0_a)"
   ]
  },
  {
   "cell_type": "code",
   "execution_count": null,
   "metadata": {
    "ExecuteTime": {
     "end_time": "2020-12-02T13:22:09.151111Z",
     "start_time": "2020-12-02T13:22:09.147585Z"
    }
   },
   "outputs": [],
   "source": [
    "gsmal_a=slip_a<0.05\n",
    "rake_a_mod=rake_a.copy()\n",
    "rake_a_mod[gsmal_a]=-90\n",
    "\n",
    "gsmal_b=slip_b<0.05\n",
    "rake_b_mod=rake_b.copy()\n",
    "rake_b_mod[gsmal_b]=-10"
   ]
  },
  {
   "cell_type": "code",
   "execution_count": null,
   "metadata": {
    "ExecuteTime": {
     "end_time": "2020-12-02T13:22:10.290760Z",
     "start_time": "2020-12-02T13:22:10.286310Z"
    }
   },
   "outputs": [],
   "source": [
    "dist = np.sqrt(\n",
    "    (lons_a-hypocenter_geo[0])**2+(lats_a-hypocenter_geo[1])**2+(depths_a-hypocenter_geo[2])**2)\n",
    "ind_ipo = np.unravel_index(np.argmin(dist, axis=None), dist.shape)\n",
    "ind_ipo_b=(0,27)"
   ]
  },
  {
   "cell_type": "code",
   "execution_count": null,
   "metadata": {
    "ExecuteTime": {
     "end_time": "2020-12-02T13:22:11.368353Z",
     "start_time": "2020-12-02T13:22:11.365356Z"
    }
   },
   "outputs": [],
   "source": [
    "# translate since the origin in the slip model is in the center of the subfault (2kmx2km)\n",
    "xs_a = xs_a * 1000 + 1000\n",
    "xs_b = xs_b * 1000 + 1000\n",
    "\n",
    "ys_a = ys_a * 1000 - 1000\n",
    "ys_b = ys_b * 1000 -1000"
   ]
  },
  {
   "cell_type": "code",
   "execution_count": null,
   "metadata": {
    "ExecuteTime": {
     "end_time": "2020-12-02T13:22:12.311844Z",
     "start_time": "2020-12-02T13:22:12.306815Z"
    }
   },
   "outputs": [],
   "source": [
    "x_a = np.linspace(np.min(xs_a), np.max(xs_a), nx0_a)\n",
    "z_a = np.linspace(np.max(ys_a), np.min(ys_a), nz0_a)\n",
    "x_b = np.linspace(np.min(xs_b), np.max(xs_b), nx0_b)\n",
    "z_b = np.linspace(np.max(ys_b), np.min(ys_b), nz0_b)"
   ]
  },
  {
   "cell_type": "code",
   "execution_count": null,
   "metadata": {
    "ExecuteTime": {
     "end_time": "2020-12-02T13:22:13.268112Z",
     "start_time": "2020-12-02T13:22:13.263623Z"
    }
   },
   "outputs": [],
   "source": [
    "nx_a = len(x_a)\n",
    "nz_a = len(z_a)\n",
    "zv_a, xv_a = np.meshgrid(z_a, x_a)\n",
    "\n",
    "nx_b = len(x_b)\n",
    "nz_b = len(z_b)\n",
    "zv_b, xv_b = np.meshgrid(z_b, x_b)"
   ]
  },
  {
   "cell_type": "code",
   "execution_count": null,
   "metadata": {
    "ExecuteTime": {
     "end_time": "2020-12-02T13:22:14.382172Z",
     "start_time": "2020-12-02T13:22:14.378992Z"
    }
   },
   "outputs": [],
   "source": [
    "matrix_zv_b=zv_b.ravel()\n",
    "matrix_zv_b.shape=(zv_b.ravel().shape[0],1)\n",
    "matrix_xv_b=xv_b.ravel()\n",
    "matrix_xv_b.shape=(xv_b.ravel().shape[0],1)"
   ]
  },
  {
   "cell_type": "markdown",
   "metadata": {},
   "source": [
    "z along fault ---> real depth"
   ]
  },
  {
   "cell_type": "code",
   "execution_count": null,
   "metadata": {
    "ExecuteTime": {
     "end_time": "2020-12-02T13:22:16.296291Z",
     "start_time": "2020-12-02T13:22:16.291824Z"
    }
   },
   "outputs": [],
   "source": [
    "new_zv_b = secondcorner + \\\n",
    "            matrix_xv_b * directionstrike.T + \\\n",
    "            matrix_zv_b*directiondip.T\n",
    "\n",
    "depth_z_b = new_zv_b[:, 2]\n",
    "depth_z_b.shape = zv_b.shape\n",
    "\n",
    "depth_z_a = zv_a*np.sin(np.radians(dip_a))"
   ]
  },
  {
   "cell_type": "markdown",
   "metadata": {},
   "source": [
    "conversion in utm 33 coordinates"
   ]
  },
  {
   "cell_type": "code",
   "execution_count": null,
   "metadata": {
    "ExecuteTime": {
     "end_time": "2020-12-02T13:22:18.720053Z",
     "start_time": "2020-12-02T13:22:18.713647Z"
    }
   },
   "outputs": [],
   "source": [
    "utmx_a,utmy_a=utm33(lons_a,lats_a)\n",
    "print('SHIFT FAULT.YAML',ind_ipo)\n",
    "print(utmx_a[0][0],utmy_a[0][0])\n",
    "print(utmx_a[ind_ipo[0]][ind_ipo[1]],utmy_a[ind_ipo[0]][ind_ipo[1]],depths_a[ind_ipo[0]][ind_ipo[1]])\n",
    "\n",
    "utmx_b,utmy_b=utm33(lons_b,lats_b)\n",
    "print('SHIFT FAULT.YAML')\n",
    "print(utmx_b[0][0],utmy_b[0][0])"
   ]
  },
  {
   "cell_type": "code",
   "execution_count": null,
   "metadata": {
    "ExecuteTime": {
     "end_time": "2020-12-02T13:22:19.841564Z",
     "start_time": "2020-12-02T13:22:19.837405Z"
    }
   },
   "outputs": [],
   "source": [
    "labellat=np.arange(42.7,43,0.1)\n",
    "labely=[utm33(13.019618,l)[1] for l in labellat]\n",
    "\n",
    "labellon=np.arange(13.0,13.4,0.1)\n",
    "labelx=[utm33(l,42.6607246)[0] for l in labellon]"
   ]
  },
  {
   "cell_type": "code",
   "execution_count": null,
   "metadata": {
    "ExecuteTime": {
     "end_time": "2020-12-02T13:22:20.996911Z",
     "start_time": "2020-12-02T13:22:20.988041Z"
    }
   },
   "outputs": [],
   "source": [
    "#fault polygon for figures\n",
    "a1=utmx_a==utmx_a.min()\n",
    "a2=utmy_a==utmy_a.min()\n",
    "a4=utmy_a==utmy_a.max()\n",
    "a3=utmx_a==utmx_a.max()\n",
    "\n",
    "b1=utmx_b==utmx_b.min()\n",
    "b2=utmy_b==utmy_b.min()\n",
    "b4=utmy_b==utmy_b.max()\n",
    "b3=utmx_b==utmx_b.max()\n",
    "\n",
    "poly_b=np.array([utmx_b[b1],utmy_b[b1],\n",
    "                 utmx_b[b2],utmy_b[b2],\n",
    "                 utmx_b[b3],utmy_b[b3],\n",
    "                 utmx_b[b4],utmy_b[b4]] )\n",
    "poly_b.shape=(4,2)\n",
    "\n",
    "poly_a=np.array([utmx_a[a1],utmy_a[a1],\n",
    "                 utmx_a[a2],utmy_a[a2],\n",
    "                 utmx_a[a3],utmy_a[a3],\n",
    "                 utmx_a[a4],utmy_a[a4]] )\n",
    "poly_a.shape=(4,2)\n",
    "\n",
    "poly_c=np.array([utmx_b[b1]-10000,utmy_b[b1]-7000,\n",
    "                 utmx_b[b2]-10000,utmy_b[b2]-7000,\n",
    "                 utmx_b[b3]-10000,utmy_b[b3]-7000,\n",
    "                 utmx_b[b4]-10000,utmy_b[b4]-7000] )\n",
    "poly_c.shape=(4,2)"
   ]
  },
  {
   "cell_type": "markdown",
   "metadata": {},
   "source": [
    "## Initial Dynamic Parameters"
   ]
  },
  {
   "cell_type": "code",
   "execution_count": null,
   "metadata": {
    "ExecuteTime": {
     "end_time": "2020-12-02T13:22:23.166374Z",
     "start_time": "2020-12-02T13:22:23.163080Z"
    }
   },
   "outputs": [],
   "source": [
    "gravity = 9.8  # [m/s^2]\n",
    "rho_val = 2700  # [kg/m^3]"
   ]
  },
  {
   "cell_type": "markdown",
   "metadata": {},
   "source": [
    "Density profile of the 1D nnCIA profile (Herrmann et al. 2011)"
   ]
  },
  {
   "cell_type": "code",
   "execution_count": null,
   "metadata": {
    "ExecuteTime": {
     "end_time": "2020-12-02T13:22:24.903010Z",
     "start_time": "2020-12-02T13:22:24.899847Z"
    }
   },
   "outputs": [],
   "source": [
    "z_nncia = [-1500., -4500, -7500, -14500, \n",
    "           -29500, -35500, -43500, -100000]  # [meters]\n",
    "rho_nncia = [2275.3, 2485.8, 2705.8, 2609.3,\n",
    "             2677., 3000.2, 3012., 3206.]  # [kg/m^3]"
   ]
  },
  {
   "cell_type": "markdown",
   "metadata": {},
   "source": [
    "## FAMILY H\n",
    "\n",
    "Homogeneous family is based on homogeneous stress conditions, may be useful to understand which conditions may favor or not a spontaneous multi-fault rupture."
   ]
  },
  {
   "cell_type": "code",
   "execution_count": null,
   "metadata": {
    "ExecuteTime": {
     "end_time": "2020-12-02T13:22:26.570476Z",
     "start_time": "2020-12-02T13:22:26.567830Z"
    }
   },
   "outputs": [],
   "source": [
    "NOME_SIMULAZIONE='H_family'"
   ]
  },
  {
   "cell_type": "markdown",
   "metadata": {},
   "source": [
    "### Dynamic friction $\\mu_d$ , Static friction $\\mu_s$"
   ]
  },
  {
   "cell_type": "code",
   "execution_count": null,
   "metadata": {
    "ExecuteTime": {
     "end_time": "2020-12-02T13:22:28.418327Z",
     "start_time": "2020-12-02T13:22:28.415314Z"
    }
   },
   "outputs": [],
   "source": [
    "MU_D = 0.2  # dynamic friction\n",
    "MU_S = 0.6  # static friction\n",
    "MU_TR = 10.  # maximum static friction"
   ]
  },
  {
   "cell_type": "markdown",
   "metadata": {},
   "source": [
    "### Dc, slip weaking critical distance"
   ]
  },
  {
   "cell_type": "code",
   "execution_count": null,
   "metadata": {
    "ExecuteTime": {
     "end_time": "2020-12-02T13:22:30.464878Z",
     "start_time": "2020-12-02T13:22:30.461894Z"
    }
   },
   "outputs": [],
   "source": [
    "D_CR_b=0.6*tmp_b # Dc is a constant % of total slip\n",
    "D_CR_a=1.2*tmp_a # Dc is a constant % of total slip"
   ]
  },
  {
   "cell_type": "markdown",
   "metadata": {},
   "source": [
    "### Density "
   ]
  },
  {
   "cell_type": "code",
   "execution_count": null,
   "metadata": {
    "ExecuteTime": {
     "end_time": "2020-12-02T13:22:32.536967Z",
     "start_time": "2020-12-02T13:22:32.531769Z"
    }
   },
   "outputs": [],
   "source": [
    "DENSITY_METHOD = 'vertical_depth_dependent'\n",
    "rho_b = rho_val*tmp_b\n",
    "rho_a = rho_val*tmp_a\n",
    "\n",
    "for zrho, rho_val in zip(z_nncia[::-1], rho_nncia[::-1]):\n",
    "    # print(zrho,rho_val,zrho/np.sin(dip*np.pi/180))\n",
    "    criterium = depth_z_a >= zrho\n",
    "    rho_a[criterium] = rho_val\n",
    "    criterium = depth_z_b >= zrho\n",
    "    rho_b[criterium] = rho_val\n",
    "\n",
    "\n",
    "rho_a = rho_a-1000  # adding the presence of fluid\n",
    "rho_b = rho_b-1000  # adding the presence of fluid"
   ]
  },
  {
   "cell_type": "markdown",
   "metadata": {},
   "source": [
    "### Normal stress $\\sigma_n$"
   ]
  },
  {
   "cell_type": "code",
   "execution_count": null,
   "metadata": {
    "ExecuteTime": {
     "end_time": "2020-12-02T13:22:34.517586Z",
     "start_time": "2020-12-02T13:22:34.513227Z"
    }
   },
   "outputs": [],
   "source": [
    "NORMAL_STRESS_METHOD='vertical_depth_dependent'\n",
    "\n",
    "# zv is negative but NORMAL_STRESS is positive in compression\n",
    "NORMAL_STRESS_a = -rho_a*gravity*depth_z_a/1e6 # [MPa]\n",
    "NORMAL_STRESS_uni_a = -rho_val*gravity*depth_z_a/1e6 # [MPa]\n",
    "\n",
    "# zv is negative but NORMAL_STRESS is positive in compression\n",
    "NORMAL_STRESS_b = -rho_b*gravity*depth_z_b/1e6 # [MPa]\n",
    "NORMAL_STRESS_uni_b = -rho_val*gravity*depth_z_b/1e6 # [MPa]\n",
    "\n",
    "\n",
    "sn_thre = 1  # [MPa]\n",
    "NORMAL_STRESS_a[NORMAL_STRESS_a < sn_thre] = sn_thre\n",
    "NORMAL_STRESS_b[NORMAL_STRESS_b < sn_thre] = sn_thre"
   ]
  },
  {
   "cell_type": "markdown",
   "metadata": {},
   "source": [
    "### Initial stress $\\tau_{o}$, dynamic frictional stress $\\tau_{f}=\\mu_d\\sigma_n$, yield stress $\\tau_{y}$"
   ]
  },
  {
   "cell_type": "code",
   "execution_count": null,
   "metadata": {
    "ExecuteTime": {
     "end_time": "2020-12-02T13:22:36.350452Z",
     "start_time": "2020-12-02T13:22:36.347634Z"
    }
   },
   "outputs": [],
   "source": [
    "TAU_Y_a = NORMAL_STRESS_a*MU_S\n",
    "TAU_Y_b = NORMAL_STRESS_b*MU_S\n",
    "\n",
    "TAU_F_a = NORMAL_STRESS_a*MU_D\n",
    "TAU_F_b = NORMAL_STRESS_b*MU_D"
   ]
  },
  {
   "cell_type": "markdown",
   "metadata": {},
   "source": [
    "### $\\tau_{o}$ is set 63% of $\\tau_{y}=\\mu_s\\sigma_n$ before increasing $\\tau_{y}$ close to the surface"
   ]
  },
  {
   "cell_type": "code",
   "execution_count": null,
   "metadata": {
    "ExecuteTime": {
     "end_time": "2020-12-02T13:22:38.353929Z",
     "start_time": "2020-12-02T13:22:38.351477Z"
    }
   },
   "outputs": [],
   "source": [
    "TAU_0_a = TAU_Y_a*0.63\n",
    "TAU_0_b = TAU_Y_b*0.63"
   ]
  },
  {
   "cell_type": "code",
   "execution_count": null,
   "metadata": {
    "ExecuteTime": {
     "end_time": "2020-12-02T13:22:39.425312Z",
     "start_time": "2020-12-02T13:22:39.421800Z"
    }
   },
   "outputs": [],
   "source": [
    "mu_s_a = TAU_Y_a/NORMAL_STRESS_a\n",
    "mu_s_a = np.minimum(mu_s_a, MU_TR)\n",
    "TAU_Y_a = mu_s_a*NORMAL_STRESS_a\n",
    "\n",
    "mu_s_b = TAU_Y_b/NORMAL_STRESS_b\n",
    "mu_s_b = np.minimum(mu_s_b, MU_TR)\n",
    "TAU_Y_b = mu_s_b*NORMAL_STRESS_b"
   ]
  },
  {
   "cell_type": "code",
   "execution_count": null,
   "metadata": {
    "ExecuteTime": {
     "end_time": "2020-12-02T13:22:40.610617Z",
     "start_time": "2020-12-02T13:22:40.608373Z"
    }
   },
   "outputs": [],
   "source": [
    "mu_d_a = TAU_F_a/NORMAL_STRESS_a\n",
    "mu_d_b = TAU_F_b/NORMAL_STRESS_b"
   ]
  },
  {
   "cell_type": "code",
   "execution_count": null,
   "metadata": {
    "ExecuteTime": {
     "end_time": "2020-12-02T13:22:41.795226Z",
     "start_time": "2020-12-02T13:22:41.792848Z"
    }
   },
   "outputs": [],
   "source": [
    "stress_a=TAU_0_a\n",
    "stress_b=TAU_0_b"
   ]
  },
  {
   "cell_type": "code",
   "execution_count": null,
   "metadata": {
    "ExecuteTime": {
     "end_time": "2020-12-02T13:22:42.906190Z",
     "start_time": "2020-12-02T13:22:42.903025Z"
    }
   },
   "outputs": [],
   "source": [
    "R_a=np.round((stress_a-TAU_F_a)/(TAU_Y_a-TAU_F_a),1)\n",
    "R_b=np.round((stress_b-TAU_F_b)/(TAU_Y_b-TAU_F_b),1)"
   ]
  },
  {
   "cell_type": "markdown",
   "metadata": {},
   "source": [
    "### Rotate stress tensor"
   ]
  },
  {
   "cell_type": "code",
   "execution_count": null,
   "metadata": {
    "ExecuteTime": {
     "end_time": "2020-12-02T13:22:44.715378Z",
     "start_time": "2020-12-02T13:22:44.570407Z"
    }
   },
   "outputs": [],
   "source": [
    "s_yy_a, s_zz_a, s_yz_a, s_xx_a, s_xz_a, s_xy_a, s_yy_b, s_zz_b, s_yz_b, s_xx_b, s_xz_b, s_xy_b = rotating_stress_tensor(stress_a, stress_b)"
   ]
  },
  {
   "cell_type": "markdown",
   "metadata": {},
   "source": [
    "### Plot Family H"
   ]
  },
  {
   "cell_type": "code",
   "execution_count": null,
   "metadata": {
    "ExecuteTime": {
     "end_time": "2020-12-02T13:22:49.504020Z",
     "start_time": "2020-12-02T13:22:46.429333Z"
    }
   },
   "outputs": [],
   "source": [
    "### H FAMILY\n",
    "fig = plt.figure(figsize=(20, 15))\n",
    "plt.tight_layout()\n",
    "\n",
    "icol = 6\n",
    "irow = 3\n",
    "l=ind_ipo[0]\n",
    "\n",
    "i = 1\n",
    "ax = fig.add_subplot(irow, icol, i)\n",
    "v_a = None  # slip_a\n",
    "v_b = None  # slip_b\n",
    "vmin = 0  # min(v_a.min(),v_b.min())\n",
    "vmax = 0  # max(v_a.max(),v_b.max())\n",
    "txt = 'slip [m]'\n",
    "colors = ['white']\n",
    "d = plot_topview_2faults(ax, v_a, v_b, vmin, vmax, txt,\n",
    "                         cmap=plt.cm.colors.ListedColormap(colors), colors=colors)\n",
    "\n",
    "i = 2\n",
    "ax = fig.add_subplot(irow, icol, i)\n",
    "v_a = rho_a\n",
    "v_b = rho_b\n",
    "vmin = min(v_a.min(), v_b.min())\n",
    "vmax = max(v_a.max(), v_b.max())\n",
    "txt = 'density [kg/$m^3$] '+DENSITY_METHOD\n",
    "d = plot_topview_2faults(ax, v_a, v_b, vmin, vmax,\n",
    "                         txt, cmap='plasma', fmat=\"%.0f\")\n",
    "\n",
    "i = 3\n",
    "ax = fig.add_subplot(irow, icol, i)\n",
    "v_a = D_CR_a\n",
    "v_b = D_CR_b\n",
    "vmin = min(v_a.min(), v_b.min())\n",
    "vmax = max(v_a.max(), v_b.max())\n",
    "txt = '$D_c$ [m]'\n",
    "colors = ['red', 'green']\n",
    "d = plot_topview_2faults(ax, v_a, v_b, vmin, vmax, txt,\n",
    "                         cmap=plt.cm.colors.ListedColormap(colors), colors=colors)\n",
    "\n",
    "i = 4\n",
    "ax = fig.add_subplot(irow, icol, i)\n",
    "v_a = NORMAL_STRESS_a\n",
    "v_b = NORMAL_STRESS_b\n",
    "vmin = min(v_a.min(), v_b.min())\n",
    "vmax = max(v_a.max(), v_b.max())\n",
    "txt = '$\\sigma_n$ [MPa] '+NORMAL_STRESS_METHOD\n",
    "d = plot_topview_2faults(ax, v_a, v_b, vmin, vmax, txt, cmap='viridis')\n",
    "\n",
    "\n",
    "i = 5\n",
    "ax = fig.add_subplot(irow, icol, i)\n",
    "v_a = mu_s_a\n",
    "v_b = mu_s_b\n",
    "vmin = min(v_a.min(), v_b.min())\n",
    "vmax = max(v_a.max(), v_b.max())\n",
    "txt = '$\\mu_s$'\n",
    "colors = ['blue']\n",
    "d = plot_topview_2faults(ax, v_a, v_b, vmin, vmax, txt,\n",
    "                         cmap=plt.cm.colors.ListedColormap(colors), colors=colors)\n",
    "\n",
    "i = 6\n",
    "ax = fig.add_subplot(irow, icol, i)\n",
    "v_a = mu_d_a\n",
    "v_b = mu_d_b\n",
    "vmin = min(v_a.min(), v_b.min())\n",
    "vmax = max(v_a.max(), v_b.max())\n",
    "txt = '$\\mu_d$'\n",
    "colors = ['green']\n",
    "d = plot_topview_2faults(ax, v_a, v_b, vmin, vmax, txt,\n",
    "                         cmap=plt.cm.colors.ListedColormap(colors), colors=colors)\n",
    "\n",
    "###########\n",
    "\n",
    "i = 7\n",
    "ax = fig.add_subplot(irow, icol, i)\n",
    "v_a = None\n",
    "v_b = None\n",
    "vmin = 0# min(v_a.min(), v_b.min())\n",
    "vmax = 0# max(v_a.max(), v_b.max())\n",
    "txt = 'slip -> rake [m]'\n",
    "colors = ['white']\n",
    "d = plot_topview_2faults(ax, v_a, v_b, vmin, vmax, txt,\n",
    "                         cmap=plt.cm.colors.ListedColormap(colors), colors=colors)\n",
    "\n",
    "i = 8\n",
    "ax = fig.add_subplot(irow, icol, i)\n",
    "v_a = TAU_0_a\n",
    "v_b = TAU_0_b\n",
    "vmin = min(v_a.min(), v_b.min())\n",
    "vmax = max(v_a.max(), v_b.max())\n",
    "txt = '$\\\\tau_{o} = \\\\tau_{f} + c_{slip \\\\rightarrow stress}*slip$ [MPa]'\n",
    "d = plot_topview_2faults(ax, v_a, v_b, vmin, vmax, txt, cmap='viridis',profile=True)\n",
    "\n",
    "i = 9\n",
    "ax = fig.add_subplot(irow, icol, i)\n",
    "v_a = TAU_F_a\n",
    "v_b = TAU_F_b\n",
    "vmin = min(v_a.min(), v_b.min())\n",
    "vmax = max(v_a.max(), v_b.max())\n",
    "txt = '$\\\\tau_f = \\\\mu_{d} \\\\sigma_{n}$ [MPa]'\n",
    "d = plot_topview_2faults(ax, v_a, v_b, vmin, vmax, txt, cmap='viridis',profile=True)\n",
    "\n",
    "i = 12\n",
    "ax = fig.add_subplot(irow, icol, i)\n",
    "v_a = R_a\n",
    "v_b = R_b\n",
    "vmin = min(v_a.min(), v_b.min())\n",
    "vmax = max(v_a.max(), v_b.max())\n",
    "# print(vmin, vmax)\n",
    "txt = '$R = \\\\frac{\\\\tau_o - \\\\tau_f }{\\\\tau_y - \\\\tau_f}$'\n",
    "colors = ['red']\n",
    "d = plot_topview_2faults(ax, v_a, v_b, vmin, vmax, txt,\n",
    "                         cmap=plt.cm.colors.ListedColormap(colors), colors=colors)\n",
    "\n",
    "\n",
    "v=np.concatenate([s_yy_a.ravel(), s_zz_a.ravel(), s_yz_a.ravel(), s_xx_a.ravel(), \n",
    "                s_xz_a.ravel(), s_xy_a.ravel(), s_yy_b.ravel(), s_zz_b.ravel(),\n",
    "                s_yz_b.ravel(), s_xx_b.ravel(), s_xz_b.ravel(), s_xy_b.ravel()])\n",
    "\n",
    "vmin=-max(abs(v.min()/1e6),abs(v.max()/1e6))\n",
    "vmax=max(abs(v.min()/1e6),abs(v.max()/1e6))\n",
    "# print(vmin,vmax)\n",
    "cmap='seismic'\n",
    "\n",
    "i = 13\n",
    "ax = fig.add_subplot(irow, icol, i)\n",
    "v_a = s_xx_a/1e6\n",
    "v_b = s_xx_b/1e6\n",
    "txt = '$\\sigma_{xx}$ [MPa]'\n",
    "d = plot_topview_2faults(ax, v_a, v_b, vmin, vmax, txt, cmap=cmap)\n",
    "\n",
    "i = 14\n",
    "ax = fig.add_subplot(irow, icol, i)\n",
    "v_a = s_yy_a/1e6\n",
    "v_b = s_yy_b/1e6\n",
    "txt = '$\\sigma_{yy}$ [MPa]'\n",
    "d = plot_topview_2faults(ax, v_a, v_b, vmin, vmax, txt, cmap=cmap)\n",
    "\n",
    "i = 15\n",
    "ax = fig.add_subplot(irow, icol, i)\n",
    "v_a = s_zz_a/1e6\n",
    "v_b = s_zz_b/1e6\n",
    "txt = '$\\sigma_{zz}$ [MPa]'\n",
    "d = plot_topview_2faults(ax, v_a, v_b, vmin, vmax, txt, cmap=cmap)\n",
    "\n",
    "i = 16\n",
    "ax = fig.add_subplot(irow, icol, i)\n",
    "v_a = s_xy_a/1e6\n",
    "v_b = s_xy_b/1e6\n",
    "txt = '$\\sigma_{xy}$ [MPa]'\n",
    "d = plot_topview_2faults(ax, v_a, v_b, vmin, vmax, txt, cmap=cmap)\n",
    "\n",
    "i = 17\n",
    "ax = fig.add_subplot(irow, icol, i)\n",
    "v_a = s_xz_a/1e6\n",
    "v_b = s_xz_b/1e6\n",
    "txt = '$\\sigma_{xz}$ [MPa]'\n",
    "d = plot_topview_2faults(ax, v_a, v_b, vmin, vmax, txt, cmap=cmap)\n",
    "\n",
    "i = 18\n",
    "ax = fig.add_subplot(irow, icol, i)\n",
    "v_a = s_yz_a/1e6\n",
    "v_b = s_yz_b/1e6\n",
    "txt = '$\\sigma_{yz}$ [MPa]'\n",
    "d = plot_topview_2faults(ax, v_a, v_b, vmin, vmax, txt, cmap=cmap)\n",
    "\n",
    "i = 10\n",
    "ax = fig.add_subplot(irow, icol, i)\n",
    "v_a = TAU_Y_a\n",
    "v_b = TAU_Y_b\n",
    "vmin = min(v_a.min(), v_b.min())\n",
    "vmax = max(v_a.max(), v_b.max())\n",
    "txt = ' $\\\\tau_y = \\\\tau_o + \\\\Delta S$ [MPa]'\n",
    "d = plot_topview_2faults(ax, v_a, v_b, vmin, vmax, txt, cmap='viridis',profile=True)\n",
    "\n",
    "i = 11\n",
    "ax1 = fig.add_subplot(irow, icol, i)\n",
    "ax1.plot(TAU_0_a[l,:],zv_a[l,:],label='tau_o',color='k')\n",
    "ax1.plot(TAU_Y_a[l,:],zv_a[l,:],label='tau_y',color='r')\n",
    "ax1.plot(TAU_F_a[l,:],zv_a[l,:],label='tau_f',color='b')\n",
    "ax1.legend(frameon=False)\n",
    "ax1.yaxis.tick_right()\n",
    "ax1.set_yticks([0,-5000,-10000,-15000])\n",
    "ax1.set_yticklabels(str(_) for _ in [0,-5,-10,-15])\n",
    "ax1.set_ylabel('along dip [km]')\n",
    "ax1.set_xlabel('[MPa]]')\n",
    "norm = matplotlib.colors.Normalize(vmin=vmin, vmax=vmax)\n",
    "clb = plt.colorbar(matplotlib.cm.ScalarMappable(norm=norm, cmap=plt.cm.colors.ListedColormap(['white'])), ticks=[],\n",
    "                           spacing='proportional', format='%.1f', orientation='horizontal')\n",
    "clb.outline.set_visible(False)\n",
    "from matplotlib.patches import ConnectionPatch\n",
    "xy=(utmx_a[l,0],utmy_a[l,0])\n",
    "xy1=(0,1)\n",
    "con = ConnectionPatch(\n",
    "    xyA=xy, coordsA=ax.transData,\n",
    "    xyB=xy1, coordsB=ax1.transAxes,\n",
    "    arrowstyle=\"-\", shrinkB=5,color='r')\n",
    "ax1.add_artist(con)\n",
    "xy=(utmx_a[l,-1],utmy_a[l,-1])\n",
    "xy1=(0,0)\n",
    "con = ConnectionPatch(\n",
    "    xyA=xy, coordsA=ax.transData,\n",
    "    xyB=xy1, coordsB=ax1.transAxes,\n",
    "    arrowstyle=\"-\", shrinkB=5,color='r')\n",
    "ax1.add_artist(con)\n",
    "\n",
    "plt.suptitle('H FAMILY')"
   ]
  },
  {
   "cell_type": "markdown",
   "metadata": {},
   "source": [
    "## FAMILY B\n",
    "\n",
    "Family  B  represents  the  group  of  heterogeneous  models  more  frequently  proposed in the literatures. Again, the stress drop is set heterogeneous, correlated to theinferred  slip  distribution.   The  yield  strength  is  assumed  heterogeneous  to allow a variable as well as small strength excess all over the fault plane.  In these models, spontaneous rupture propagation is favored everywhere on the fault planesand leads to a heterogeneous slip distribution."
   ]
  },
  {
   "cell_type": "code",
   "execution_count": null,
   "metadata": {
    "ExecuteTime": {
     "end_time": "2020-12-02T13:22:49.710888Z",
     "start_time": "2020-12-02T13:22:49.708477Z"
    }
   },
   "outputs": [],
   "source": [
    "NOME_SIMULAZIONE='B_family'"
   ]
  },
  {
   "cell_type": "markdown",
   "metadata": {},
   "source": [
    "### Dynamic friction $\\mu_d$ , Static friction $\\mu_s$"
   ]
  },
  {
   "cell_type": "code",
   "execution_count": null,
   "metadata": {
    "ExecuteTime": {
     "end_time": "2020-12-02T13:22:50.061069Z",
     "start_time": "2020-12-02T13:22:50.058334Z"
    }
   },
   "outputs": [],
   "source": [
    "MU_D = 0.2  # dynamic friction\n",
    "MU_S = 0.5  # static friction\n",
    "MU_TR = 10.  # maximum static friction"
   ]
  },
  {
   "cell_type": "markdown",
   "metadata": {},
   "source": [
    "### $D_c$, slip weaking critical distance. \n",
    "$D_c$ is a percentage of the total slip, the percentage depends on the depth"
   ]
  },
  {
   "cell_type": "code",
   "execution_count": null,
   "metadata": {
    "ExecuteTime": {
     "end_time": "2020-12-02T13:22:50.984277Z",
     "start_time": "2020-12-02T13:22:50.976321Z"
    }
   },
   "outputs": [],
   "source": [
    "z_nncia=[-1500.,-4500,-7500,-14500,-29500,-35500,-43500,-100000]\n",
    "dc_nncia=[0.3,0.3,0.1,0.1] \n",
    "D_CR_tres=0.02\n",
    "D_CR_b=0.6*tmp_b \n",
    "D_CR_a=0.6*tmp_a \n",
    "\n",
    "for zdc,dc_val in zip(z_nncia[len(dc_nncia)-1::-1],dc_nncia[::-1]):\n",
    "    #print(zdc,dc_val)\n",
    "    cdc = depth_z_a >= zdc\n",
    "    D_CR_a[cdc] = dc_val\n",
    "    cdc = depth_z_b >= zdc\n",
    "    D_CR_b[cdc] = dc_val\n",
    "    \n",
    "D_CR_a=D_CR_a*slip_a\n",
    "cdc = D_CR_a <= D_CR_tres\n",
    "D_CR_a[cdc]=D_CR_tres \n",
    "# print(D_CR_a.min(),D_CR_a.max())\n",
    "\n",
    "D_CR_b=D_CR_b*slip_b\n",
    "cdc = D_CR_b <= D_CR_tres\n",
    "D_CR_b[cdc]=D_CR_tres\n",
    "# print(D_CR_b.min(),D_CR_b.max())"
   ]
  },
  {
   "cell_type": "markdown",
   "metadata": {},
   "source": [
    "### Density "
   ]
  },
  {
   "cell_type": "code",
   "execution_count": null,
   "metadata": {
    "ExecuteTime": {
     "end_time": "2020-12-02T13:22:51.821410Z",
     "start_time": "2020-12-02T13:22:51.815552Z"
    }
   },
   "outputs": [],
   "source": [
    "DENSITY_METHOD = 'vertical_depth_dependent'\n",
    "rho_b = rho_val*tmp_b\n",
    "rho_a = rho_val*tmp_a\n",
    "\n",
    "for zrho, rho_val in zip(z_nncia[::-1], rho_nncia[::-1]):\n",
    "    # print(zrho,rho_val,zrho/np.sin(dip*np.pi/180))\n",
    "    criterium = depth_z_a >= zrho\n",
    "    rho_a[criterium] = rho_val\n",
    "    criterium = depth_z_b >= zrho\n",
    "    rho_b[criterium] = rho_val\n",
    "\n",
    "\n",
    "rho_a = rho_a-1000  # adding the presence of fluid\n",
    "rho_b = rho_b-1000  # adding the presence of fluid"
   ]
  },
  {
   "cell_type": "markdown",
   "metadata": {},
   "source": [
    "### Normal stress $\\sigma_n$"
   ]
  },
  {
   "cell_type": "code",
   "execution_count": null,
   "metadata": {
    "ExecuteTime": {
     "end_time": "2020-12-02T13:22:52.353214Z",
     "start_time": "2020-12-02T13:22:52.349034Z"
    }
   },
   "outputs": [],
   "source": [
    "NORMAL_STRESS_METHOD='vertical_depth_dependent'\n",
    "\n",
    "# zv is negative but NORMAL_STRESS is positive in compression\n",
    "NORMAL_STRESS_a = -rho_a*gravity*depth_z_a/1e6 # [MPa]\n",
    "NORMAL_STRESS_uni_a = -rho_val*gravity*depth_z_a/1e6 # [MPa]\n",
    "\n",
    "# zv is negative but NORMAL_STRESS is positive in compression\n",
    "NORMAL_STRESS_b = -rho_b*gravity*depth_z_b/1e6 # [MPa]\n",
    "NORMAL_STRESS_uni_b = -rho_val*gravity*depth_z_b/1e6 # [MPa]\n",
    "\n",
    "\n",
    "sn_thre = 1  # [MPa]\n",
    "NORMAL_STRESS_a[NORMAL_STRESS_a < sn_thre] = sn_thre\n",
    "NORMAL_STRESS_b[NORMAL_STRESS_b < sn_thre] = sn_thre"
   ]
  },
  {
   "cell_type": "markdown",
   "metadata": {},
   "source": [
    "### Initial stress $\\tau_{o}$, dynamic frictional stress $\\tau_{f}=\\mu_d\\sigma_n$, yield stress $\\tau_{y}$"
   ]
  },
  {
   "cell_type": "code",
   "execution_count": null,
   "metadata": {
    "ExecuteTime": {
     "end_time": "2020-12-02T13:22:53.292050Z",
     "start_time": "2020-12-02T13:22:53.289875Z"
    }
   },
   "outputs": [],
   "source": [
    "SLIP_2_STRESS_FACTOR_a=4\n",
    "SLIP_2_STRESS_FACTOR_b=5"
   ]
  },
  {
   "cell_type": "code",
   "execution_count": null,
   "metadata": {
    "ExecuteTime": {
     "end_time": "2020-12-02T13:22:53.929477Z",
     "start_time": "2020-12-02T13:22:53.926775Z"
    }
   },
   "outputs": [],
   "source": [
    "TAU_F_a = NORMAL_STRESS_a*MU_D\n",
    "TAU_F_b = NORMAL_STRESS_b*MU_D"
   ]
  },
  {
   "cell_type": "markdown",
   "metadata": {},
   "source": [
    "### $\\tau_{o}$ is set $\\tau_{o} = \\tau_{f} + c_{slip \\rightarrow stress}*slip$"
   ]
  },
  {
   "cell_type": "code",
   "execution_count": null,
   "metadata": {
    "ExecuteTime": {
     "end_time": "2020-12-02T13:22:55.625581Z",
     "start_time": "2020-12-02T13:22:55.622945Z"
    }
   },
   "outputs": [],
   "source": [
    "TAU_0_a=TAU_F_a+slip_a*SLIP_2_STRESS_FACTOR_a\n",
    "TAU_0_b=TAU_F_b+slip_b*SLIP_2_STRESS_FACTOR_b"
   ]
  },
  {
   "cell_type": "markdown",
   "metadata": {},
   "source": [
    "### Strengh excess $\\Delta S$ is defined as a function of the distance from the hypocenter $\\Delta S = \\frac{\\tau_{y}^{max}-\\tau_{y}^{min}}{r_c}*r+\\tau_y^{min}$ with $\\tau_y^{min}=0.1$ e $\\tau_y^{max}=0.6$"
   ]
  },
  {
   "cell_type": "code",
   "execution_count": null,
   "metadata": {
    "ExecuteTime": {
     "end_time": "2020-12-02T13:22:57.173385Z",
     "start_time": "2020-12-02T13:22:57.167898Z"
    }
   },
   "outputs": [],
   "source": [
    "def get_tauy(xx, yy, xxc, yyc, rr_crit=80000, tauy_min=0.1, tauy_max=6):\n",
    "    ffy=np.ones(xx.shape)*tauy_max\n",
    "    r=np.sqrt((xx-xxc)**2+(yy-yyc)**2)\n",
    "    c=r <= rr_crit\n",
    "    ffy[c]=(tauy_max-tauy_min)/rr_crit*r[c]+tauy_min\n",
    "    return ffy\n",
    "\n",
    "STREXCE_a=get_tauy(xv_a,zv_a,xv_a[ind_ipo],zv_a[ind_ipo])\n",
    "STREXCE_b=get_tauy(xv_b,zv_b,xv_b[ind_ipo_b],zv_b[ind_ipo_b])"
   ]
  },
  {
   "cell_type": "markdown",
   "metadata": {},
   "source": [
    "### $\\tau_{y}$ is set $\\tau_{y} = \\tau_{o} + \\Delta S$"
   ]
  },
  {
   "cell_type": "code",
   "execution_count": null,
   "metadata": {
    "ExecuteTime": {
     "end_time": "2020-12-02T13:22:58.939016Z",
     "start_time": "2020-12-02T13:22:58.935036Z"
    }
   },
   "outputs": [],
   "source": [
    "TAU_Y_a=TAU_0_a+STREXCE_a\n",
    "TAU_Y_b=TAU_0_b+STREXCE_b\n",
    "\n",
    "mu_s_a = TAU_Y_a/NORMAL_STRESS_a\n",
    "mu_s_a = np.minimum(mu_s_a, MU_TR)\n",
    "TAU_Y_a = mu_s_a*NORMAL_STRESS_a\n",
    "\n",
    "mu_s_b = TAU_Y_b/NORMAL_STRESS_b\n",
    "mu_s_b = np.minimum(mu_s_b, MU_TR)\n",
    "TAU_Y_b = mu_s_b*NORMAL_STRESS_b"
   ]
  },
  {
   "cell_type": "code",
   "execution_count": null,
   "metadata": {
    "ExecuteTime": {
     "end_time": "2020-12-02T13:22:59.999233Z",
     "start_time": "2020-12-02T13:22:59.996538Z"
    }
   },
   "outputs": [],
   "source": [
    "mu_d_a = TAU_F_a/NORMAL_STRESS_a\n",
    "mu_d_b = TAU_F_b/NORMAL_STRESS_b"
   ]
  },
  {
   "cell_type": "code",
   "execution_count": null,
   "metadata": {
    "ExecuteTime": {
     "end_time": "2020-12-02T13:23:00.773374Z",
     "start_time": "2020-12-02T13:23:00.771141Z"
    }
   },
   "outputs": [],
   "source": [
    "stress_a=TAU_0_a\n",
    "stress_b=TAU_0_b"
   ]
  },
  {
   "cell_type": "code",
   "execution_count": null,
   "metadata": {
    "ExecuteTime": {
     "end_time": "2020-12-02T13:23:01.612662Z",
     "start_time": "2020-12-02T13:23:01.609499Z"
    }
   },
   "outputs": [],
   "source": [
    "R_a=np.round((stress_a-TAU_F_a)/(TAU_Y_a-TAU_F_a),1)\n",
    "R_b=np.round((stress_b-TAU_F_b)/(TAU_Y_b-TAU_F_b),1)"
   ]
  },
  {
   "cell_type": "markdown",
   "metadata": {},
   "source": [
    "### Rotate stress tensor"
   ]
  },
  {
   "cell_type": "code",
   "execution_count": null,
   "metadata": {
    "ExecuteTime": {
     "end_time": "2020-12-02T13:23:03.337443Z",
     "start_time": "2020-12-02T13:23:03.191508Z"
    }
   },
   "outputs": [],
   "source": [
    "s_yy_a, s_zz_a, s_yz_a, s_xx_a, s_xz_a, s_xy_a, s_yy_b, s_zz_b, s_yz_b, s_xx_b, s_xz_b, s_xy_b = rotating_stress_tensor(stress_a, stress_b,rake_a_mod,rake_b_mod)"
   ]
  },
  {
   "cell_type": "markdown",
   "metadata": {},
   "source": [
    "### Plot Family B"
   ]
  },
  {
   "cell_type": "code",
   "execution_count": null,
   "metadata": {
    "ExecuteTime": {
     "end_time": "2020-12-02T13:23:08.263907Z",
     "start_time": "2020-12-02T13:23:05.116424Z"
    }
   },
   "outputs": [],
   "source": [
    "### B FAMILY\n",
    "fig = plt.figure(figsize=(20, 15))\n",
    "plt.tight_layout()\n",
    "\n",
    "icol = 6\n",
    "irow = 3\n",
    "l=ind_ipo[0]\n",
    "\n",
    "i = 1\n",
    "ax = fig.add_subplot(irow, icol, i)\n",
    "v_a = slip_a\n",
    "v_b = slip_b\n",
    "vmin = min(v_a.min(),v_b.min())\n",
    "vmax = max(v_a.max(),v_b.max())\n",
    "txt = 'slip [m]'\n",
    "d = plot_topview_2faults(ax, v_a, v_b, vmin, vmax, txt,\n",
    "                         cmap='hot_r')\n",
    "\n",
    "i = 2\n",
    "ax = fig.add_subplot(irow, icol, i)\n",
    "v_a = rho_a\n",
    "v_b = rho_b\n",
    "vmin = min(v_a.min(), v_b.min())\n",
    "vmax = max(v_a.max(), v_b.max())\n",
    "txt = 'density [kg/$m^3$] '+DENSITY_METHOD\n",
    "d = plot_topview_2faults(ax, v_a, v_b, vmin, vmax,\n",
    "                         txt, cmap='plasma', fmat=\"%.0f\")\n",
    "\n",
    "i = 3\n",
    "ax = fig.add_subplot(irow, icol, i)\n",
    "v_a = D_CR_a\n",
    "v_b = D_CR_b\n",
    "vmin = min(v_a.min(), v_b.min())\n",
    "vmax = max(v_a.max(), v_b.max())\n",
    "txt = '$D_c$ [m]'\n",
    "d = plot_topview_2faults(ax, v_a, v_b, vmin, vmax, txt,\n",
    "                         cmap='RdYlGn')\n",
    "\n",
    "i = 4\n",
    "ax = fig.add_subplot(irow, icol, i)\n",
    "v_a = NORMAL_STRESS_a\n",
    "v_b = NORMAL_STRESS_b\n",
    "vmin = min(v_a.min(), v_b.min())\n",
    "vmax = max(v_a.max(), v_b.max())\n",
    "txt = '$\\sigma_n$ [MPa] '+NORMAL_STRESS_METHOD\n",
    "d = plot_topview_2faults(ax, v_a, v_b, vmin, vmax, txt, cmap='viridis')\n",
    "\n",
    "i = 5\n",
    "ax = fig.add_subplot(irow, icol, i)\n",
    "v_a = mu_s_a\n",
    "v_b = mu_s_b\n",
    "vmin = min(v_a.min(), v_b.min())\n",
    "vmax = 1# max(v_a.max(), v_b.max())\n",
    "txt = '$\\mu_s$'\n",
    "d = plot_topview_2faults(ax, v_a, v_b, vmin, vmax, txt,\n",
    "                        cmap='Blues')\n",
    "\n",
    "i = 6\n",
    "ax = fig.add_subplot(irow, icol, i)\n",
    "v_a = mu_d_a\n",
    "v_b = mu_d_b\n",
    "vmin = min(v_a.min(), v_b.min())\n",
    "vmax = max(v_a.max(), v_b.max())\n",
    "txt = '$\\mu_d$'\n",
    "colors = ['green']\n",
    "d = plot_topview_2faults(ax, v_a, v_b, vmin, vmax, txt,\n",
    "                         cmap=plt.cm.colors.ListedColormap(colors), colors=colors)\n",
    "\n",
    "###########\n",
    "\n",
    "i = 7\n",
    "ax = fig.add_subplot(irow, icol, i)\n",
    "v_a = slip_a\n",
    "v_b = slip_b\n",
    "vmin = min(v_a.min(), v_b.min())\n",
    "vmax = max(v_a.max(), v_b.max())\n",
    "txt = 'slip -> rake [m]'\n",
    "d = plot_topview_2faults(ax, v_a, v_b, vmin, vmax, txt, cmap='hot_r',quiver=True)\n",
    "\n",
    "i = 8\n",
    "ax = fig.add_subplot(irow, icol, i)\n",
    "v_a = TAU_0_a\n",
    "v_b = TAU_0_b\n",
    "vmin = min(v_a.min(), v_b.min())\n",
    "vmax = max(v_a.max(), v_b.max())\n",
    "txt = '$\\\\tau_{o} = \\\\tau_{f} + c_{slip \\\\rightarrow stress}*slip$ [MPa]'\n",
    "d = plot_topview_2faults(ax, v_a, v_b, vmin, vmax, txt, cmap='viridis',profile=True)\n",
    "\n",
    "i = 9\n",
    "ax = fig.add_subplot(irow, icol, i)\n",
    "v_a = TAU_F_a\n",
    "v_b = TAU_F_b\n",
    "vmin = min(v_a.min(), v_b.min())\n",
    "vmax = max(v_a.max(), v_b.max())\n",
    "txt = '$\\\\tau_f = \\\\mu_{d} \\\\sigma_{n}$ [MPa]'\n",
    "d = plot_topview_2faults(ax, v_a, v_b, vmin, vmax, txt, cmap='viridis',profile=True)\n",
    "\n",
    "i = 12\n",
    "ax = fig.add_subplot(irow, icol, i)\n",
    "v_a = .5*D_CR_a*(TAU_0_a-TAU_F_a)\n",
    "v_b = .5*D_CR_b*(TAU_0_b-TAU_F_b)\n",
    "vmin = min(v_a.min(), v_b.min())\n",
    "vmax = 10 #max(v_a.max(), v_b.max())\n",
    "# print(vmin, vmax)\n",
    "# print('FE mean',v_a.mean(), v_b.mean())\n",
    "txt = '$Fracture Energy = \\\\frac{\\\\tau_{o} - \\\\tau_{f} }{2}D_{c}$'\n",
    "d = plot_topview_2faults(ax, v_a, v_b, vmin, vmax, txt,\n",
    "                         cmap='Reds')\n",
    "\n",
    "v=np.concatenate([s_yy_a.ravel(), s_zz_a.ravel(), s_yz_a.ravel(), s_xx_a.ravel(), \n",
    "                s_xz_a.ravel(), s_xy_a.ravel(), s_yy_b.ravel(), s_zz_b.ravel(),\n",
    "                s_yz_b.ravel(), s_xx_b.ravel(), s_xz_b.ravel(), s_xy_b.ravel()])\n",
    "\n",
    "vmin=-max(abs(v.min()/1e6),abs(v.max()/1e6))\n",
    "vmax=max(abs(v.min()/1e6),abs(v.max()/1e6))\n",
    "# print(vmin,vmax)\n",
    "cmap='seismic'\n",
    "\n",
    "i = 13\n",
    "ax = fig.add_subplot(irow, icol, i)\n",
    "v_a = s_xx_a/1e6\n",
    "v_b = s_xx_b/1e6\n",
    "txt = '$\\sigma_{xx}$ [MPa]'\n",
    "d = plot_topview_2faults(ax, v_a, v_b, vmin, vmax, txt, cmap=cmap)\n",
    "\n",
    "i = 14\n",
    "ax = fig.add_subplot(irow, icol, i)\n",
    "v_a = s_yy_a/1e6\n",
    "v_b = s_yy_b/1e6\n",
    "txt = '$\\sigma_{yy}$ [MPa]'\n",
    "d = plot_topview_2faults(ax, v_a, v_b, vmin, vmax, txt, cmap=cmap)\n",
    "\n",
    "i = 15\n",
    "ax = fig.add_subplot(irow, icol, i)\n",
    "v_a = s_zz_a/1e6\n",
    "v_b = s_zz_b/1e6\n",
    "txt = '$\\sigma_{zz}$ [MPa]'\n",
    "d = plot_topview_2faults(ax, v_a, v_b, vmin, vmax, txt, cmap=cmap)\n",
    "\n",
    "i = 16\n",
    "ax = fig.add_subplot(irow, icol, i)\n",
    "v_a = s_xy_a/1e6\n",
    "v_b = s_xy_b/1e6\n",
    "txt = '$\\sigma_{xy}$ [MPa]'\n",
    "d = plot_topview_2faults(ax, v_a, v_b, vmin, vmax, txt, cmap=cmap)\n",
    "\n",
    "i = 17\n",
    "ax = fig.add_subplot(irow, icol, i)\n",
    "v_a = s_xz_a/1e6\n",
    "v_b = s_xz_b/1e6\n",
    "txt = '$\\sigma_{xz}$ [MPa]'\n",
    "d = plot_topview_2faults(ax, v_a, v_b, vmin, vmax, txt, cmap=cmap)\n",
    "\n",
    "i = 18\n",
    "ax = fig.add_subplot(irow, icol, i)\n",
    "v_a = s_yz_a/1e6\n",
    "v_b = s_yz_b/1e6\n",
    "txt = '$\\sigma_{yz}$ [MPa]'\n",
    "d = plot_topview_2faults(ax, v_a, v_b, vmin, vmax, txt, cmap=cmap)\n",
    "\n",
    "i = 10\n",
    "ax = fig.add_subplot(irow, icol, i)\n",
    "v_a = TAU_Y_a\n",
    "v_b = TAU_Y_b\n",
    "vmin = min(v_a.min(), v_b.min())\n",
    "vmax = max(v_a.max(), v_b.max())\n",
    "txt = ' $\\\\tau_y = \\\\tau_o + \\\\Delta S$ [MPa]'\n",
    "d = plot_topview_2faults(ax, v_a, v_b, vmin, vmax, txt, cmap='viridis',profile=True)\n",
    "\n",
    "i = 11\n",
    "ax1 = fig.add_subplot(irow, icol, i)\n",
    "ax1.plot(TAU_0_a[l,:],zv_a[l,:],label='tau_o',color='k')\n",
    "ax1.plot(TAU_Y_a[l,:],zv_a[l,:],label='tau_y',color='r')\n",
    "ax1.plot(TAU_F_a[l,:],zv_a[l,:],label='tau_f',color='b')\n",
    "ax1.legend(frameon=False)\n",
    "ax1.yaxis.tick_right()\n",
    "ax1.set_yticks([0,-5000,-10000,-15000])\n",
    "ax1.set_yticklabels(str(_) for _ in [0,-5,-10,-15])\n",
    "ax1.set_ylabel('along dip [km]')\n",
    "ax1.set_xlabel('[MPa]]')\n",
    "norm = matplotlib.colors.Normalize(vmin=vmin, vmax=vmax)\n",
    "clb = plt.colorbar(matplotlib.cm.ScalarMappable(norm=norm, cmap=plt.cm.colors.ListedColormap(['white'])), ticks=[],\n",
    "                           spacing='proportional', format='%.1f', orientation='horizontal')\n",
    "clb.outline.set_visible(False)\n",
    "from matplotlib.patches import ConnectionPatch\n",
    "xy=(utmx_a[l,0],utmy_a[l,0])\n",
    "xy1=(0,1)\n",
    "con = ConnectionPatch(\n",
    "    xyA=xy, coordsA=ax.transData,\n",
    "    xyB=xy1, coordsB=ax1.transAxes,\n",
    "    arrowstyle=\"-\", shrinkB=5,color='r')\n",
    "ax1.add_artist(con)\n",
    "xy=(utmx_a[l,-1],utmy_a[l,-1])\n",
    "xy1=(0,0)\n",
    "con = ConnectionPatch(\n",
    "    xyA=xy, coordsA=ax.transData,\n",
    "    xyB=xy1, coordsB=ax1.transAxes,\n",
    "    arrowstyle=\"-\", shrinkB=5,color='r')\n",
    "ax1.add_artist(con)\n",
    "\n",
    "plt.suptitle('B FAMILY')"
   ]
  },
  {
   "cell_type": "code",
   "execution_count": null,
   "metadata": {
    "ExecuteTime": {
     "end_time": "2020-12-02T13:23:08.764657Z",
     "start_time": "2020-12-02T13:23:08.482095Z"
    }
   },
   "outputs": [],
   "source": [
    "fig=plt.figure(figsize=[10,15])\n",
    "ax=plt.gca()\n",
    "v_a = .5*D_CR_a*(TAU_0_a-TAU_F_a)\n",
    "v_b = .5*D_CR_b*(TAU_0_b-TAU_F_b)\n",
    "femean=np.concatenate([v_a.ravel(), v_b.ravel()]).mean()\n",
    "# print(vmin, vmax)\n",
    "# print('FE min',v_a.min(), v_b.min())\n",
    "\n",
    "thres=round(0.2*np.concatenate([slip_a.ravel(), slip_b.ravel()]).mean(),2)\n",
    "v_a[slip_a<=thres]=-1\n",
    "v_b[slip_b<=thres]=-1\n",
    "vmin = 0\n",
    "vmax = 10#max(v_a.max(), v_b.max())\n",
    "femeant=np.concatenate([v_a.ravel()[slip_a.ravel()>thres], v_b.ravel()[slip_b.ravel()>thres]]).mean()\n",
    "# print(vmin, vmax)\n",
    "# print('FE min',v_a.min(), v_b.min())\n",
    "txt = NOME_SIMULAZIONE+'\\nFracture Energy = $\\\\frac{\\\\tau_{o} - \\\\tau_{f} }{2}D_{c}$\\nmean (threshold slip > '+str(thres)+') = '+str(round(femeant,2))+'\\nmean (all) = '+str(round(femean,2))\n",
    "d = plot_topview_2faults(ax, v_a, v_b, vmin, vmax, txt,\n",
    "                         cmap='Reds')\n",
    "ax.contourf(utmx_a, utmy_a, v_a, levels=[-1,0],\n",
    "                           vmin=vmin, vmax=vmax, cmap='viridis')\n",
    "ax.contourf(utmx_b-10000, utmy_b-7000, v_b, levels=[-1,0],\n",
    "                           vmin=vmin, vmax=vmax, cmap='viridis')\n",
    "\n",
    "v=np.concatenate([v_a.ravel()[slip_a.ravel()>.5], v_b.ravel()[slip_b.ravel()>.5]])\n",
    "print(v.mean())"
   ]
  },
  {
   "cell_type": "markdown",
   "metadata": {},
   "source": [
    "## FAMILY C\n",
    "\n",
    "Family  C  includes  models  with  homogeneous  static  friction  and  initial  stress,  and heterogeneous dynamic friction, with values compatible with the expected rocks in this region and at these depths.  This family of models is motivated by the fact that mostrocks share similar $\\mu_s$.  Heterogeneities in the dynamic friction coefficient allow constraining the target stress drop distribution, which is again assumed correlated to the inferred slip distribution."
   ]
  },
  {
   "cell_type": "code",
   "execution_count": null,
   "metadata": {
    "ExecuteTime": {
     "end_time": "2020-12-02T13:23:11.065561Z",
     "start_time": "2020-12-02T13:23:11.063265Z"
    }
   },
   "outputs": [],
   "source": [
    "NOME_SIMULAZIONE='C_family'"
   ]
  },
  {
   "cell_type": "markdown",
   "metadata": {},
   "source": [
    "### Dynamic friction $\\mu_d$ , Static friction $\\mu_s$"
   ]
  },
  {
   "cell_type": "code",
   "execution_count": null,
   "metadata": {
    "ExecuteTime": {
     "end_time": "2020-12-02T13:23:14.407951Z",
     "start_time": "2020-12-02T13:23:14.405250Z"
    }
   },
   "outputs": [],
   "source": [
    "MU_D = 0.1  # dynamic friction\n",
    "MU_S = 0.6  # static friction\n",
    "MU_TR = 10.  # maximum static friction"
   ]
  },
  {
   "cell_type": "markdown",
   "metadata": {},
   "source": [
    "### $D_c$, slip weaking critical distance"
   ]
  },
  {
   "cell_type": "markdown",
   "metadata": {},
   "source": [
    "$D_c$ is a percentage of the total slip, the percentage depends on the depth"
   ]
  },
  {
   "cell_type": "code",
   "execution_count": null,
   "metadata": {
    "ExecuteTime": {
     "end_time": "2020-12-02T13:41:00.411296Z",
     "start_time": "2020-12-02T13:41:00.402185Z"
    }
   },
   "outputs": [],
   "source": [
    "z_nncia=[-1500.,-4500,-7500,-14500,-29500,-35500,-43500,-100000]\n",
    "dc_nncia=[0.3,0.3,0.1,0.1]\n",
    "dc_nncia_add=[1.,0.,0.,0.]\n",
    "D_CR_tres=0.02\n",
    "D_CR_b=0.6*tmp_b \n",
    "D_CR_a=0.6*tmp_a \n",
    "D_CR_b2=0.*tmp_b \n",
    "D_CR_a2=0.*tmp_a \n",
    "\n",
    "\n",
    "for zdc,dc_val,dc_add in zip(z_nncia[len(dc_nncia)-1::-1],dc_nncia[::-1],dc_nncia_add[::-1]):\n",
    "    #print(zdc,dc_val)\n",
    "    cdc = depth_z_a >= zdc\n",
    "    D_CR_a[cdc] = dc_val\n",
    "    D_CR_a2[cdc] = dc_add\n",
    "    cdc = depth_z_b >= zdc\n",
    "    D_CR_b[cdc] = dc_val\n",
    "    D_CR_b2[cdc] = dc_add\n",
    "    \n",
    "D_CR_a=D_CR_a*slip_a+D_CR_a2\n",
    "cdc = D_CR_a <= D_CR_tres\n",
    "D_CR_a[cdc]=D_CR_tres \n",
    "# print(D_CR_a.min(),D_CR_a.max())\n",
    "\n",
    "D_CR_b=D_CR_b*slip_b+D_CR_b2\n",
    "cdc = D_CR_b <= D_CR_tres\n",
    "D_CR_b[cdc]=D_CR_tres\n",
    "# print(D_CR_b.min(),D_CR_b.max())"
   ]
  },
  {
   "cell_type": "markdown",
   "metadata": {},
   "source": [
    "### Density "
   ]
  },
  {
   "cell_type": "code",
   "execution_count": null,
   "metadata": {
    "ExecuteTime": {
     "end_time": "2020-12-02T13:41:05.008567Z",
     "start_time": "2020-12-02T13:41:05.003560Z"
    }
   },
   "outputs": [],
   "source": [
    "DENSITY_METHOD = 'vertical_depth_dependent'\n",
    "rho_b = rho_val*tmp_b\n",
    "rho_a = rho_val*tmp_a\n",
    "\n",
    "for zrho, rho_val in zip(z_nncia[::-1], rho_nncia[::-1]):\n",
    "    # print(zrho,rho_val,zrho/np.sin(dip*np.pi/180))\n",
    "    criterium = depth_z_a >= zrho\n",
    "    rho_a[criterium] = rho_val\n",
    "    criterium = depth_z_b >= zrho\n",
    "    rho_b[criterium] = rho_val\n",
    "\n",
    "\n",
    "rho_a = rho_a-1000  # adding the presence of fluid\n",
    "rho_b = rho_b-1000  # adding the presence of fluid"
   ]
  },
  {
   "cell_type": "markdown",
   "metadata": {},
   "source": [
    "### Normal stress $\\sigma_n$"
   ]
  },
  {
   "cell_type": "code",
   "execution_count": null,
   "metadata": {
    "ExecuteTime": {
     "end_time": "2020-12-02T13:41:06.928231Z",
     "start_time": "2020-12-02T13:41:06.923783Z"
    }
   },
   "outputs": [],
   "source": [
    "NORMAL_STRESS_METHOD='vertical_depth_dependent'\n",
    "\n",
    "# zv is negative but NORMAL_STRESS is positive in compression\n",
    "NORMAL_STRESS_a = -rho_a*gravity*depth_z_a/1e6 # [MPa]\n",
    "NORMAL_STRESS_uni_a = -rho_val*gravity*depth_z_a/1e6 # [MPa]\n",
    "\n",
    "# zv is negative but NORMAL_STRESS is positive in compression\n",
    "NORMAL_STRESS_b = -rho_b*gravity*depth_z_b/1e6 # [MPa]\n",
    "NORMAL_STRESS_uni_b = -rho_val*gravity*depth_z_b/1e6 # [MPa]\n",
    "\n",
    "\n",
    "sn_thre = 1  # [MPa]\n",
    "NORMAL_STRESS_a[NORMAL_STRESS_a < sn_thre] = sn_thre\n",
    "NORMAL_STRESS_b[NORMAL_STRESS_b < sn_thre] = sn_thre"
   ]
  },
  {
   "cell_type": "markdown",
   "metadata": {},
   "source": [
    "### Initial stress $\\tau_{o}$, dynamic frictional stress $\\tau_{f}=\\mu_d\\sigma_n$, yield stress $\\tau_{y}$"
   ]
  },
  {
   "cell_type": "code",
   "execution_count": null,
   "metadata": {
    "ExecuteTime": {
     "end_time": "2020-12-02T13:41:08.959441Z",
     "start_time": "2020-12-02T13:41:08.955656Z"
    }
   },
   "outputs": [],
   "source": [
    "slip_a_thres=slip_a.copy()\n",
    "slip_b_thres=slip_b.copy()\n",
    "\n",
    "Slip_thres=0.5\n",
    "tsli = slip_a_thres <= Slip_thres\n",
    "slip_a_thres[tsli]=Slip_thres\n",
    "tsli = slip_b_thres <= Slip_thres\n",
    "slip_b_thres[tsli]=Slip_thres"
   ]
  },
  {
   "cell_type": "markdown",
   "metadata": {},
   "source": [
    "### $\\tau_{y}$ is set $\\tau_y = \\mu_{s} \\sigma_{n}$  then the condition $\\tau_{y}$ >= 5 is applied"
   ]
  },
  {
   "cell_type": "code",
   "execution_count": null,
   "metadata": {
    "ExecuteTime": {
     "end_time": "2020-12-02T13:41:10.901449Z",
     "start_time": "2020-12-02T13:41:10.896801Z"
    }
   },
   "outputs": [],
   "source": [
    "TAU_Y_a=NORMAL_STRESS_a*MU_S\n",
    "TAU_Y_b=NORMAL_STRESS_b*MU_S\n",
    "\n",
    "TauY_tres=5\n",
    "ttauY = TAU_Y_a <= TauY_tres\n",
    "TAU_Y_a[ttauY]=TauY_tres\n",
    "ttauY = TAU_Y_b <= TauY_tres\n",
    "TAU_Y_b[ttauY]=TauY_tres\n",
    "\n",
    "mu_s_a = TAU_Y_a/NORMAL_STRESS_a\n",
    "mu_s_b = TAU_Y_b/NORMAL_STRESS_b\n",
    "\n",
    "mu_s_a=np.minimum(mu_s_a,MU_TR)\n",
    "TAU_Y_a=mu_s_a*NORMAL_STRESS_a\n",
    "mu_s_b=np.minimum(mu_s_b,MU_TR)\n",
    "TAU_Y_b=mu_s_b*NORMAL_STRESS_b"
   ]
  },
  {
   "cell_type": "markdown",
   "metadata": {},
   "source": [
    "### $\\tau_{o}$ is set $\\tau_{o} = c\\mu_{s} \\sigma_{n}$ where $c=0.80$ for fault 155 and $c=0.85$ for fault 210"
   ]
  },
  {
   "cell_type": "code",
   "execution_count": null,
   "metadata": {
    "ExecuteTime": {
     "end_time": "2020-12-02T13:41:12.780663Z",
     "start_time": "2020-12-02T13:41:12.778029Z"
    }
   },
   "outputs": [],
   "source": [
    "TAU_0_a=NORMAL_STRESS_a*MU_S*0.80\n",
    "TAU_0_b=NORMAL_STRESS_b*MU_S*0.85"
   ]
  },
  {
   "cell_type": "markdown",
   "metadata": {},
   "source": [
    "### $\\tau_{f}$ is set $\\tau_{f} = \\tau_{o} - c_{slip \\rightarrow stress}*slip$"
   ]
  },
  {
   "cell_type": "code",
   "execution_count": null,
   "metadata": {
    "ExecuteTime": {
     "end_time": "2020-12-02T13:41:14.565006Z",
     "start_time": "2020-12-02T13:41:14.560786Z"
    }
   },
   "outputs": [],
   "source": [
    "SLIP_2_STRESS_FACTOR_a=5\n",
    "SLIP_2_STRESS_FACTOR_b=8\n",
    "\n",
    "TAU_F_a=TAU_0_a-slip_a_thres*SLIP_2_STRESS_FACTOR_a\n",
    "TAU_F_b=TAU_0_b-slip_b_thres*SLIP_2_STRESS_FACTOR_b\n",
    "\n",
    "mu_d_a=TAU_F_a/NORMAL_STRESS_a\n",
    "mu_d_b=TAU_F_b/NORMAL_STRESS_b\n",
    "\n",
    "tmu = mu_d_a <= MU_D\n",
    "mu_d_a[tmu]= MU_D\n",
    "\n",
    "tmu = mu_d_b <= MU_D\n",
    "mu_d_b[tmu]= MU_D\n",
    "\n",
    "TAU_F_a=NORMAL_STRESS_a*mu_d_a\n",
    "TAU_F_b=NORMAL_STRESS_b*mu_d_b"
   ]
  },
  {
   "cell_type": "code",
   "execution_count": null,
   "metadata": {
    "ExecuteTime": {
     "end_time": "2020-12-02T13:41:15.604195Z",
     "start_time": "2020-12-02T13:41:15.597441Z"
    }
   },
   "outputs": [],
   "source": [
    "mu_d_a = TAU_F_a/NORMAL_STRESS_a\n",
    "mu_d_b = TAU_F_b/NORMAL_STRESS_b"
   ]
  },
  {
   "cell_type": "code",
   "execution_count": null,
   "metadata": {
    "ExecuteTime": {
     "end_time": "2020-12-02T13:41:16.572113Z",
     "start_time": "2020-12-02T13:41:16.569758Z"
    }
   },
   "outputs": [],
   "source": [
    "stress_a=TAU_0_a\n",
    "stress_b=TAU_0_b"
   ]
  },
  {
   "cell_type": "code",
   "execution_count": null,
   "metadata": {
    "ExecuteTime": {
     "end_time": "2020-12-02T13:41:17.565404Z",
     "start_time": "2020-12-02T13:41:17.561677Z"
    }
   },
   "outputs": [],
   "source": [
    "R_a=np.round((stress_a-TAU_F_a)/(TAU_Y_a-TAU_F_a),1)\n",
    "R_b=np.round((stress_b-TAU_F_b)/(TAU_Y_b-TAU_F_b),1)"
   ]
  },
  {
   "cell_type": "markdown",
   "metadata": {},
   "source": [
    "### Rotate stress tensor"
   ]
  },
  {
   "cell_type": "code",
   "execution_count": null,
   "metadata": {
    "ExecuteTime": {
     "end_time": "2020-12-02T13:41:19.372351Z",
     "start_time": "2020-12-02T13:41:19.229589Z"
    }
   },
   "outputs": [],
   "source": [
    "s_yy_a, s_zz_a, s_yz_a, s_xx_a, s_xz_a, s_xy_a, s_yy_b, s_zz_b, s_yz_b, s_xx_b, s_xz_b, s_xy_b = rotating_stress_tensor(stress_a, stress_b, rake_a_mod, rake_b_mod)"
   ]
  },
  {
   "cell_type": "markdown",
   "metadata": {},
   "source": [
    "### Plot Family C"
   ]
  },
  {
   "cell_type": "code",
   "execution_count": null,
   "metadata": {
    "ExecuteTime": {
     "end_time": "2020-12-02T13:41:24.388706Z",
     "start_time": "2020-12-02T13:41:21.050378Z"
    }
   },
   "outputs": [],
   "source": [
    "### C FAMILY\n",
    "fig = plt.figure(figsize=(20, 15))\n",
    "plt.tight_layout()\n",
    "\n",
    "icol = 6\n",
    "irow = 3\n",
    "l=ind_ipo[0]\n",
    "\n",
    "i = 1\n",
    "ax = fig.add_subplot(irow, icol, i)\n",
    "v_a = slip_a\n",
    "v_b = slip_b\n",
    "vmin = min(v_a.min(),v_b.min())\n",
    "vmax = max(v_a.max(),v_b.max())\n",
    "txt = 'slip [m]'\n",
    "d = plot_topview_2faults(ax, v_a, v_b, vmin, vmax, txt,\n",
    "                         cmap='hot_r')\n",
    "\n",
    "i = 2\n",
    "ax = fig.add_subplot(irow, icol, i)\n",
    "v_a = rho_a\n",
    "v_b = rho_b\n",
    "vmin = min(v_a.min(), v_b.min())\n",
    "vmax = max(v_a.max(), v_b.max())\n",
    "txt = 'density [kg/$m^3$] '+DENSITY_METHOD\n",
    "d = plot_topview_2faults(ax, v_a, v_b, vmin, vmax,\n",
    "                         txt, cmap='plasma', fmat=\"%.0f\")\n",
    "\n",
    "i = 3\n",
    "ax = fig.add_subplot(irow, icol, i)\n",
    "v_a = D_CR_a\n",
    "v_b = D_CR_b\n",
    "vmin = min(v_a.min(), v_b.min())\n",
    "vmax = max(v_a.max(), v_b.max())\n",
    "txt = '$D_c$ [m]'\n",
    "d = plot_topview_2faults(ax, v_a, v_b, vmin, vmax, txt,\n",
    "                         cmap='RdYlGn')\n",
    "\n",
    "i = 4\n",
    "ax = fig.add_subplot(irow, icol, i)\n",
    "v_a = NORMAL_STRESS_a\n",
    "v_b = NORMAL_STRESS_b\n",
    "vmin = min(v_a.min(), v_b.min())\n",
    "vmax = max(v_a.max(), v_b.max())\n",
    "txt = '$\\sigma_n$ [MPa] '+NORMAL_STRESS_METHOD\n",
    "d = plot_topview_2faults(ax, v_a, v_b, vmin, vmax, txt, cmap='viridis')\n",
    "\n",
    "\n",
    "i = 5\n",
    "ax = fig.add_subplot(irow, icol, i)\n",
    "v_a = mu_s_a\n",
    "v_b = mu_s_b\n",
    "vmin = min(v_a.min(), v_b.min())\n",
    "vmax = 1# max(v_a.max(), v_b.max())\n",
    "txt = '$\\mu_s$'\n",
    "d = plot_topview_2faults(ax, v_a, v_b, vmin, vmax, txt,\n",
    "                        cmap='Blues')\n",
    "\n",
    "i = 6\n",
    "ax = fig.add_subplot(irow, icol, i)\n",
    "v_a = mu_d_a\n",
    "v_b = mu_d_b\n",
    "vmin = min(v_a.min(), v_b.min())\n",
    "vmax = max(v_a.max(), v_b.max())\n",
    "txt = '$\\mu_d$'\n",
    "d = plot_topview_2faults(ax, v_a, v_b, vmin, vmax, txt,\n",
    "                         cmap='Greens')\n",
    "\n",
    "###########\n",
    "\n",
    "i = 7\n",
    "ax = fig.add_subplot(irow, icol, i)\n",
    "v_a = slip_a\n",
    "v_b = slip_b\n",
    "vmin = min(v_a.min(), v_b.min())\n",
    "vmax = max(v_a.max(), v_b.max())\n",
    "txt = 'slip -> rake [m]'\n",
    "d = plot_topview_2faults(ax, v_a, v_b, vmin, vmax, txt, cmap='hot_r',quiver=True)\n",
    "\n",
    "\n",
    "i = 8\n",
    "ax = fig.add_subplot(irow, icol, i)\n",
    "v_a = TAU_0_a\n",
    "v_b = TAU_0_b\n",
    "vmin = min(v_a.min(), v_b.min())\n",
    "vmax = max(v_a.max(), v_b.max())\n",
    "txt = '$\\\\tau_{o} = c \\\\mu_s \\\\sigma_n$ [MPa]'\n",
    "d = plot_topview_2faults(ax, v_a, v_b, vmin, vmax, txt, cmap='viridis',profile=True)\n",
    "\n",
    "\n",
    "i = 9\n",
    "ax = fig.add_subplot(irow, icol, i)\n",
    "v_a = TAU_F_a\n",
    "v_b = TAU_F_b\n",
    "vmin = min(v_a.min(), v_b.min())\n",
    "vmax = max(v_a.max(), v_b.max())\n",
    "txt = '$\\\\tau_{f} = \\\\tau_{o} - c_{slip \\\\rightarrow stress}*slip$ [MPa]'\n",
    "d = plot_topview_2faults(ax, v_a, v_b, vmin, vmax, txt, cmap='viridis',profile=True)\n",
    "\n",
    "i = 12\n",
    "ax = fig.add_subplot(irow, icol, i)\n",
    "v_a = .5*D_CR_a*(TAU_0_a-TAU_F_a)\n",
    "v_b = .5*D_CR_b*(TAU_0_b-TAU_F_b)\n",
    "vmin = min(v_a.min(), v_b.min())\n",
    "vmax = 10#max(v_a.max(), v_b.max())\n",
    "print(vmin, vmax)\n",
    "print('FE mean',v_a.mean(), v_b.mean(),(v_a.sum()+v_b.sum())/(len(v_a)+len(v_b)))\n",
    "txt = '$Fracture Energy = \\\\frac{\\\\tau_{o} - \\\\tau_{f} }{2}D_{c}$'\n",
    "d = plot_topview_2faults(ax, v_a, v_b, vmin, vmax, txt,\n",
    "                         cmap='Reds')\n",
    "\n",
    "v=np.concatenate([s_yy_a.ravel(), s_zz_a.ravel(), s_yz_a.ravel(), s_xx_a.ravel(), \n",
    "                s_xz_a.ravel(), s_xy_a.ravel(), s_yy_b.ravel(), s_zz_b.ravel(),\n",
    "                s_yz_b.ravel(), s_xx_b.ravel(), s_xz_b.ravel(), s_xy_b.ravel()])\n",
    "\n",
    "vmin=-max(abs(v.min()/1e6),abs(v.max()/1e6))\n",
    "vmax=max(abs(v.min()/1e6),abs(v.max()/1e6))\n",
    "# print(vmin,vmax)\n",
    "cmap='seismic'\n",
    "\n",
    "i = 13\n",
    "ax = fig.add_subplot(irow, icol, i)\n",
    "v_a = s_xx_a/1e6\n",
    "v_b = s_xx_b/1e6\n",
    "txt = '$\\sigma_{xx}$ [MPa]'\n",
    "d = plot_topview_2faults(ax, v_a, v_b, vmin, vmax, txt, cmap=cmap)\n",
    "\n",
    "i = 14\n",
    "ax = fig.add_subplot(irow, icol, i)\n",
    "v_a = s_yy_a/1e6\n",
    "v_b = s_yy_b/1e6\n",
    "txt = '$\\sigma_{yy}$ [MPa]'\n",
    "d = plot_topview_2faults(ax, v_a, v_b, vmin, vmax, txt, cmap=cmap)\n",
    "\n",
    "i = 15\n",
    "ax = fig.add_subplot(irow, icol, i)\n",
    "v_a = s_zz_a/1e6\n",
    "v_b = s_zz_b/1e6\n",
    "txt = '$\\sigma_{zz}$ [MPa]'\n",
    "d = plot_topview_2faults(ax, v_a, v_b, vmin, vmax, txt, cmap=cmap)\n",
    "\n",
    "i = 16\n",
    "ax = fig.add_subplot(irow, icol, i)\n",
    "v_a = s_xy_a/1e6\n",
    "v_b = s_xy_b/1e6\n",
    "txt = '$\\sigma_{xy}$ [MPa]'\n",
    "d = plot_topview_2faults(ax, v_a, v_b, vmin, vmax, txt, cmap=cmap)\n",
    "\n",
    "i = 17\n",
    "ax = fig.add_subplot(irow, icol, i)\n",
    "v_a = s_xz_a/1e6\n",
    "v_b = s_xz_b/1e6\n",
    "txt = '$\\sigma_{xz}$ [MPa]'\n",
    "d = plot_topview_2faults(ax, v_a, v_b, vmin, vmax, txt, cmap=cmap)\n",
    "\n",
    "i = 18\n",
    "ax = fig.add_subplot(irow, icol, i)\n",
    "v_a = s_yz_a/1e6\n",
    "v_b = s_yz_b/1e6\n",
    "txt = '$\\sigma_{yz}$ [MPa]'\n",
    "d = plot_topview_2faults(ax, v_a, v_b, vmin, vmax, txt, cmap=cmap)\n",
    "\n",
    "i = 10\n",
    "ax = fig.add_subplot(irow, icol, i)\n",
    "v_a = TAU_Y_a\n",
    "v_b = TAU_Y_b\n",
    "vmin = min(v_a.min(), v_b.min())\n",
    "vmax = max(v_a.max(), v_b.max())\n",
    "txt = ' $\\\\tau_y = \\\\mu_{s} \\\\sigma_{n}$ [MPa]'\n",
    "d = plot_topview_2faults(ax, v_a, v_b, vmin, vmax, txt, cmap='viridis',profile=True)\n",
    "\n",
    "i = 11\n",
    "ax1 = fig.add_subplot(irow, icol, i)\n",
    "ax1.plot(TAU_0_a[l,:],zv_a[l,:],label='tau_o',color='k')\n",
    "ax1.plot(TAU_Y_a[l,:],zv_a[l,:],label='tau_y',color='r')\n",
    "ax1.plot(TAU_F_a[l,:],zv_a[l,:],label='tau_f',color='b')\n",
    "ax1.legend(frameon=False)\n",
    "ax1.yaxis.tick_right()\n",
    "ax1.set_yticks([0,-5000,-10000,-15000])\n",
    "ax1.set_yticklabels(str(_) for _ in [0,-5,-10,-15])\n",
    "ax1.set_ylabel('along dip [km]')\n",
    "ax1.set_xlabel('[MPa]]')\n",
    "norm = matplotlib.colors.Normalize(vmin=vmin, vmax=vmax)\n",
    "clb = plt.colorbar(matplotlib.cm.ScalarMappable(norm=norm, cmap=plt.cm.colors.ListedColormap(['white'])), ticks=[],\n",
    "                           spacing='proportional', format='%.1f', orientation='horizontal')\n",
    "clb.outline.set_visible(False)\n",
    "\n",
    "from matplotlib.patches import ConnectionPatch\n",
    "xy=(utmx_a[l,0],utmy_a[l,0])\n",
    "xy1=(0,1)\n",
    "con = ConnectionPatch(\n",
    "    xyA=xy, coordsA=ax.transData,\n",
    "    xyB=xy1, coordsB=ax1.transAxes,\n",
    "    arrowstyle=\"-\", shrinkB=5,color='r')\n",
    "ax1.add_artist(con)\n",
    "xy=(utmx_a[l,-1],utmy_a[l,-1])\n",
    "xy1=(0,0)\n",
    "con = ConnectionPatch(\n",
    "    xyA=xy, coordsA=ax.transData,\n",
    "    xyB=xy1, coordsB=ax1.transAxes,\n",
    "    arrowstyle=\"-\", shrinkB=5,color='r')\n",
    "ax1.add_artist(con)\n",
    "\n",
    "plt.suptitle('C FAMILY')"
   ]
  },
  {
   "cell_type": "code",
   "execution_count": null,
   "metadata": {
    "ExecuteTime": {
     "end_time": "2020-12-02T13:43:15.563668Z",
     "start_time": "2020-12-02T13:43:15.267163Z"
    }
   },
   "outputs": [],
   "source": [
    "fig=plt.figure(figsize=[10,15])\n",
    "ax=plt.gca()\n",
    "v_a = .5*D_CR_a*(TAU_0_a-TAU_F_a)\n",
    "v_b = .5*D_CR_b*(TAU_0_b-TAU_F_b)\n",
    "femean=np.concatenate([v_a.ravel(), v_b.ravel()]).mean()\n",
    "# print(vmin, vmax)\n",
    "# print('FE mean',v_a.min(), v_b.min())\n",
    "\n",
    "\n",
    "thres=round(0.2*np.concatenate([slip_a.ravel(), slip_b.ravel()]).mean(),2)\n",
    "v_a[slip_a<=thres]=-1\n",
    "v_b[slip_b<=thres]=-1\n",
    "vmin = 0\n",
    "vmax = 10#max(v_a.max(), v_b.max())\n",
    "femeant=np.concatenate([v_a.ravel()[slip_a.ravel()>thres], v_b.ravel()[slip_b.ravel()>thres]]).mean()\n",
    "\n",
    "txt = NOME_SIMULAZIONE+'\\nFracture Energy = $\\\\frac{\\\\tau_{o} - \\\\tau_{f} }{2}D_{c}$\\nmean (threshold slip > '+str(thres)+') = '+str(round(femeant,2))+'\\nmean (all) = '+str(round(femean,2))\n",
    "d = plot_topview_2faults(ax, v_a, v_b, vmin, vmax, txt,\n",
    "                         cmap='Reds')\n",
    "ax.contourf(utmx_a, utmy_a, v_a, levels=[-1,0],\n",
    "                           vmin=vmin, vmax=vmax, cmap='viridis')\n",
    "ax.contourf(utmx_b-10000, utmy_b-7000, v_b, levels=[-1,0],\n",
    "                           vmin=vmin, vmax=vmax, cmap='viridis')"
   ]
  },
  {
   "cell_type": "markdown",
   "metadata": {},
   "source": [
    "## Create 3D NetCDF files"
   ]
  },
  {
   "cell_type": "code",
   "execution_count": null,
   "metadata": {
    "ExecuteTime": {
     "end_time": "2020-12-02T13:43:19.652257Z",
     "start_time": "2020-12-02T13:43:19.649191Z"
    }
   },
   "outputs": [],
   "source": [
    "fname210='norciax_210fault_nncia.nc'\n",
    "fname210_pw='paraview_'+fname210\n",
    "\n",
    "fname155='norciax_155fault_nncia.nc'\n",
    "fname155_pw='paraview_'+fname155"
   ]
  },
  {
   "cell_type": "code",
   "execution_count": null,
   "metadata": {
    "ExecuteTime": {
     "end_time": "2020-12-02T13:43:20.275093Z",
     "start_time": "2020-12-02T13:43:20.272690Z"
    }
   },
   "outputs": [],
   "source": [
    "import numpy as np\n",
    "from scipy import interpolate"
   ]
  },
  {
   "cell_type": "code",
   "execution_count": null,
   "metadata": {
    "ExecuteTime": {
     "end_time": "2020-12-02T13:43:20.802303Z",
     "start_time": "2020-12-02T13:43:20.798270Z"
    }
   },
   "outputs": [],
   "source": [
    "def extrapolate_nans(x, y, v):\n",
    "    if np.ma.is_masked(v):\n",
    "        nans = v.mask\n",
    "    else:\n",
    "        nans = np.isnan(v)\n",
    "    notnans = np.logical_not(nans)\n",
    "    v[nans] = interpolate.griddata((x[notnans], y[notnans]), v[notnans], (x[nans], y[nans]), method='nearest').ravel()\n",
    "    return v"
   ]
  },
  {
   "cell_type": "code",
   "execution_count": null,
   "metadata": {
    "ExecuteTime": {
     "end_time": "2020-12-02T13:43:21.330221Z",
     "start_time": "2020-12-02T13:43:21.325371Z"
    }
   },
   "outputs": [],
   "source": [
    "xcornerA = np.asarray([-17000,-17000,17000,17000])\n",
    "ycornerA = np.asarray([-10911.973761,0,0,-10911.973761])\n",
    "\n",
    "stepx = 100\n",
    "stepy = 50\n",
    "stepz=2\n",
    "x_155 = np.linspace(xcornerA.min(),xcornerA.max(),stepx)\n",
    "y_155 = np.linspace(ycornerA.min(),ycornerA.max(),stepy)\n",
    "xi_155,yi_155 = np.meshgrid(x_155,y_155)"
   ]
  },
  {
   "cell_type": "code",
   "execution_count": null,
   "metadata": {
    "ExecuteTime": {
     "end_time": "2020-12-02T13:43:22.163363Z",
     "start_time": "2020-12-02T13:43:22.041455Z"
    }
   },
   "outputs": [],
   "source": [
    "xp155=[]\n",
    "yp155=[]\n",
    "zp155=[]\n",
    "for _x,_z,_s in zip(xv_a.ravel(),zv_a.ravel(),slip_a.ravel()):\n",
    "    vector=rx.apply([_x,0,_z])-[17000,0,0]#by elisa 2 tentativo\n",
    "    xp155.append(vector[0])\n",
    "    yp155.append(vector[1])\n",
    "    zp155.append(vector[2])\n",
    "\n",
    "xp155=np.array(xp155)\n",
    "yp155=np.array(yp155)\n",
    "zp155=np.array(zp155)\n",
    "\n",
    "xp155.shape=slip_a.shape\n",
    "yp155.shape=slip_a.shape\n",
    "\n",
    "x_155 = np.linspace(xp155.min(),xp155.max(),stepx)\n",
    "y_155 = np.linspace(yp155.min(),yp155.max(),stepy)\n",
    "z_155 = np.linspace(zp155.min(),zp155.max(),stepz)\n",
    "\n",
    "xi_155,yi_155 = np.meshgrid(x_155,y_155)"
   ]
  },
  {
   "cell_type": "code",
   "execution_count": null,
   "metadata": {
    "ExecuteTime": {
     "end_time": "2020-09-25T14:59:20.735463Z",
     "start_time": "2020-09-25T14:59:20.731283Z"
    }
   },
   "outputs": [],
   "source": [
    "def create_projection(v,stepx=100,stepy=50,stepz=2):\n",
    "    v = extrapolate_nans(\n",
    "        xi_155,yi_155,\n",
    "        interpolate.griddata((xp155.ravel(),yp155.ravel()), v.ravel(),(xi_155,yi_155),method='linear'))\n",
    "    v2 = np.tile((v.ravel()),stepz)\n",
    "    v2.shape=(stepz,stepy,stepx)\n",
    "    return v,v2"
   ]
  },
  {
   "cell_type": "code",
   "execution_count": null,
   "metadata": {
    "ExecuteTime": {
     "end_time": "2020-09-25T14:59:21.269535Z",
     "start_time": "2020-09-25T14:59:21.219513Z"
    }
   },
   "outputs": [],
   "source": [
    "slip_p_155,slip_p_155_0=create_projection(slip_a)"
   ]
  },
  {
   "cell_type": "code",
   "execution_count": null,
   "metadata": {
    "ExecuteTime": {
     "end_time": "2020-09-25T14:59:21.607970Z",
     "start_time": "2020-09-25T14:59:21.605300Z"
    }
   },
   "outputs": [],
   "source": [
    "zi_155=slip_p_155_0[0,:,:]*0+1\n",
    "zi_155_1=zi_155*-11701.65923\n",
    "zi_155_2=zi_155*0"
   ]
  },
  {
   "cell_type": "code",
   "execution_count": null,
   "metadata": {
    "ExecuteTime": {
     "end_time": "2020-09-25T14:59:22.377132Z",
     "start_time": "2020-09-25T14:59:22.126828Z"
    }
   },
   "outputs": [],
   "source": [
    "from mpl_toolkits.mplot3d import Axes3D\n",
    "fig = plt.figure()\n",
    "ax = fig.add_subplot(111, projection='3d')\n",
    "ax.scatter(xi_155, yi_155, zi_155_1 , c=slip_p_155.ravel(), marker='.',alpha=0.1)\n",
    "ax.scatter(xi_155, yi_155, zi_155_2 , c=slip_p_155.ravel(), marker='.',alpha=0.1)"
   ]
  },
  {
   "cell_type": "code",
   "execution_count": null,
   "metadata": {
    "ExecuteTime": {
     "end_time": "2020-09-25T14:59:24.269291Z",
     "start_time": "2020-09-25T14:59:22.907421Z"
    }
   },
   "outputs": [],
   "source": [
    "# for ASAGI\n",
    "fout = Dataset('ex_'+fname155,'w',format='NETCDF4')\n",
    "fout.createDimension('x',stepx)\n",
    "fout.createDimension('y',stepy)\n",
    "fout.createDimension('z',stepz)\n",
    "fout.createVariable('x',np.float32,('x',))\n",
    "fout.createVariable('y',np.float32,('y',))\n",
    "fout.createVariable('z',np.float32,('z',))\n",
    "fout.variables['x'][:] = x_155;\n",
    "fout.variables['y'][:] = y_155;\n",
    "fout.variables['z'][:] = z_155;\n",
    "\n",
    "initial_condition = np.dtype([('s_zz',np.dtype('f4')),\n",
    "                              ('s_yy',np.dtype('f4')),\n",
    "                              ('s_yz',np.dtype('f4')),\n",
    "                              ('s_xx',np.dtype('f4')),\n",
    "                              ('s_xz',np.dtype('f4')),\n",
    "                              ('s_xy',np.dtype('f4')),\n",
    "                              ('d_c',np.dtype('f4')),\n",
    "                              ('mu_s',np.dtype('f4'))])\n",
    "\n",
    "s_zz_p,s_zz_p_0=create_projection(s_zz_a)\n",
    "s_yy_p,s_yy_p_0=create_projection(s_yy_a)\n",
    "s_yz_p,s_yz_p_0=create_projection(s_yz_a)\n",
    "s_xx_p,s_xx_p_0=create_projection(s_xx_a)\n",
    "s_xz_p,s_xz_p_0=create_projection(s_xz_a)\n",
    "s_xy_p,s_xy_p_0=create_projection(s_xy_a)\n",
    "d_c_p,d_c_p_0=create_projection(D_CR_a)\n",
    "mu_s_p,mu_s_p_0=create_projection(mu_s_a)\n",
    "\n",
    "data = fout.createCompoundType(initial_condition,'initial_condition')\n",
    "vv = fout.createVariable('data',data,dimensions=('z', 'y', 'x'))\n",
    "\n",
    "for k in range(0,stepz):\n",
    "    for jj in range (stepy):\n",
    "        for i in range(0,stepx):\n",
    "            vv[k,jj,i] = (s_zz_p_0[k,jj,i],s_yy_p_0[k,jj,i],s_yz_p_0[k,jj,i],s_xx_p_0[k,jj,i],\n",
    "                          s_xz_p_0[k,jj,i],s_xy_p_0[k,jj,i],d_c_p_0[k,jj,i],mu_s_p_0[k,jj,i])\n",
    "            \n",
    "fout.close()"
   ]
  },
  {
   "cell_type": "code",
   "execution_count": null,
   "metadata": {
    "ExecuteTime": {
     "end_time": "2020-09-25T14:59:24.682444Z",
     "start_time": "2020-09-25T14:59:24.665371Z"
    }
   },
   "outputs": [],
   "source": [
    "# for paraview\n",
    "fnetcdf = Dataset('ex_'+fname155_pw, 'w', format='NETCDF3_64BIT')\n",
    "\n",
    "fnetcdf.createDimension('x', stepx)\n",
    "fnetcdf.createDimension('y', stepy)\n",
    "fnetcdf.createDimension('z', stepz)\n",
    "\n",
    "# fnetcdf.createDimension('nvar', 3)\n",
    "desc = 'test'\n",
    "fnetcdf.description = desc\n",
    "\n",
    "x_nc = fnetcdf.createVariable('x', 'f4', ('x'))\n",
    "y_nc = fnetcdf.createVariable('y', 'f4', ('y'))\n",
    "z_nc = fnetcdf.createVariable('z', 'f4', ('z'))\n",
    "\n",
    "s_yz_nc = fnetcdf.createVariable('s_yz', 'f4', ('z', 'y','x'))\n",
    "s_yy_nc = fnetcdf.createVariable('s_yy', 'f4', ('z', 'y','x'))\n",
    "s_zz_nc = fnetcdf.createVariable('s_zz', 'f4', ('z', 'y','x'))\n",
    "s_xx_nc = fnetcdf.createVariable('s_xx', 'f4', ('z', 'y','x'))\n",
    "s_xz_nc = fnetcdf.createVariable('s_xz', 'f4', ('z', 'y','x'))\n",
    "s_xy_nc = fnetcdf.createVariable('s_xy', 'f4', ('z', 'y','x'))\n",
    "dc_nc = fnetcdf.createVariable('d_c', 'f4', ('z', 'y','x'))\n",
    "mu_s_nc = fnetcdf.createVariable('mu_s', 'f4', ('z', 'y','x'))\n",
    "\n",
    "#s_xz.transpose((2,1,0))\n",
    "s_zz_nc[:,:,:] = s_zz_p_0\n",
    "s_yy_nc[:,:,:] = s_yy_p_0\n",
    "s_yz_nc[:,:,:] = s_yz_p_0\n",
    "s_xx_nc[:,:,:] = s_xx_p_0\n",
    "s_xz_nc[:,:,:] = s_xz_p_0\n",
    "s_xy_nc[:,:,:] = s_xy_p_0\n",
    "dc_nc[:,:,:] = d_c_p_0\n",
    "mu_s_nc[:,:,:] = mu_s_p_0\n",
    "\n",
    "x_nc[:] = x_155\n",
    "y_nc[:] = y_155\n",
    "z_nc[:] = z_155\n",
    "fnetcdf.close()"
   ]
  },
  {
   "cell_type": "code",
   "execution_count": null,
   "metadata": {
    "ExecuteTime": {
     "end_time": "2020-09-25T14:59:25.663087Z",
     "start_time": "2020-09-25T14:59:25.658051Z"
    }
   },
   "outputs": [],
   "source": [
    "xcorner = np.asarray([-4514.264329707738, \n",
    "                3895.1754241867684, \n",
    "                10277.668240782505, \n",
    "                1868.2284868879979])\n",
    "ycorner = np.asarray([-9430.650446469763, \n",
    "                -1797.1014780883834, \n",
    "                -9471.965636164652, \n",
    "                -17105.51460454603])\n",
    "\n",
    "stepx = 80\n",
    "stepy = 80\n",
    "x_210 = np.linspace(xcorner.min(),xcorner.max(),stepx)\n",
    "y_210 = np.linspace(ycorner.min(),ycorner.max(),stepy)\n",
    "xi_210,yi_210 = np.meshgrid(x_210,y_210)"
   ]
  },
  {
   "cell_type": "code",
   "execution_count": null,
   "metadata": {
    "ExecuteTime": {
     "end_time": "2020-09-25T14:59:26.577053Z",
     "start_time": "2020-09-25T14:59:26.527092Z"
    }
   },
   "outputs": [],
   "source": [
    "xp210=[]\n",
    "yp210=[]\n",
    "zp210=[]\n",
    "for _x,_z,_s in zip(xv_b.ravel(),zv_b.ravel(),slip_b.ravel()):\n",
    "    vector=px2.apply([_x,0,_z])+secondcorner\n",
    "    xp210.append(vector[0])\n",
    "    yp210.append(vector[1])\n",
    "    zp210.append(vector[2])\n",
    "\n",
    "xp210=np.array(xp210)\n",
    "yp210=np.array(yp210)\n",
    "zp210=np.array(zp210)\n",
    "\n",
    "xp210.shape=slip_b.shape\n",
    "yp210.shape=slip_b.shape\n",
    "\n",
    "x_210 = np.linspace(xp210.min(),xp210.max(),stepx)\n",
    "y_210 = np.linspace(yp210.min(),yp210.max(),stepy)\n",
    "z_210 = np.linspace(zp210.min(),zp210.max(),stepz)\n",
    "print(xp210.min(),xp210.max(),yp210.min(),yp210.max(),zp210.min(),zp210.max())\n",
    "print(secondcorner)\n",
    "xi_210,yi_210 = np.meshgrid(x_210,y_210)"
   ]
  },
  {
   "cell_type": "code",
   "execution_count": null,
   "metadata": {
    "ExecuteTime": {
     "end_time": "2020-09-25T14:59:29.423482Z",
     "start_time": "2020-09-25T14:59:29.419136Z"
    }
   },
   "outputs": [],
   "source": [
    "def create_projection(v,stepx=80,stepy=80,stepz=2):\n",
    "    v = extrapolate_nans(\n",
    "        xi_210,yi_210,\n",
    "        interpolate.griddata((xp210.ravel(),yp210.ravel()), v.ravel(),(xi_210,yi_210),method='linear'))\n",
    "    v2 = np.tile((v.ravel()),stepz)\n",
    "    v2.shape=(stepz,stepy,stepx) #questo ordine controlatto da casarotti (anche se y e x hanno stessa dimensione va prima la y)\n",
    "    return v,v2"
   ]
  },
  {
   "cell_type": "code",
   "execution_count": null,
   "metadata": {
    "ExecuteTime": {
     "end_time": "2020-09-25T14:59:30.323539Z",
     "start_time": "2020-09-25T14:59:30.307061Z"
    }
   },
   "outputs": [],
   "source": [
    "slip_p_210,slip_p_210_0=create_projection(slip_b)"
   ]
  },
  {
   "cell_type": "code",
   "execution_count": null,
   "metadata": {
    "ExecuteTime": {
     "end_time": "2020-09-25T14:59:31.205879Z",
     "start_time": "2020-09-25T14:59:31.203602Z"
    }
   },
   "outputs": [],
   "source": [
    "stepz = 2 # only top and bottom"
   ]
  },
  {
   "cell_type": "code",
   "execution_count": null,
   "metadata": {
    "ExecuteTime": {
     "end_time": "2020-09-25T14:59:31.965975Z",
     "start_time": "2020-09-25T14:59:31.962915Z"
    }
   },
   "outputs": [],
   "source": [
    "zi_210=slip_p_210_0[0,:,:]*0+1\n",
    "zi_210_1=zi_210*-10113.134453974475\n",
    "zi_210_2=zi_210*-1326.9507610865114"
   ]
  },
  {
   "cell_type": "code",
   "execution_count": null,
   "metadata": {
    "ExecuteTime": {
     "end_time": "2020-09-25T14:59:33.108044Z",
     "start_time": "2020-09-25T14:59:32.819022Z"
    }
   },
   "outputs": [],
   "source": [
    "from mpl_toolkits.mplot3d import Axes3D\n",
    "fig = plt.figure()\n",
    "ax = fig.add_subplot(111, projection='3d')\n",
    "ax.scatter(xi_210, yi_210, zi_210_1 , c=slip_p_210.ravel(), marker='.',alpha=0.1)\n",
    "ax.scatter(xi_210, yi_210, zi_210_2 , c=slip_p_210.ravel(), marker='.',alpha=0.1)"
   ]
  },
  {
   "cell_type": "code",
   "execution_count": null,
   "metadata": {
    "ExecuteTime": {
     "end_time": "2020-09-25T14:59:35.332884Z",
     "start_time": "2020-09-25T14:59:33.688406Z"
    }
   },
   "outputs": [],
   "source": [
    "#cfor ASAGI\n",
    "fout = Dataset('ex_'+fname210,'w',format='NETCDF4')\n",
    "fout.createDimension('x',stepx)\n",
    "fout.createDimension('y',stepy)\n",
    "fout.createDimension('z',stepz)\n",
    "fout.createVariable('x',np.float32,('x',))\n",
    "fout.createVariable('y',np.float32,('y',))\n",
    "fout.createVariable('z',np.float32,('z',))\n",
    "fout.variables['x'][:] = x_210;\n",
    "fout.variables['y'][:] = y_210;\n",
    "fout.variables['z'][:] = z_210;\n",
    "\n",
    "initial_condition = np.dtype([('s_zz',np.dtype('f4')),\n",
    "                              ('s_yy',np.dtype('f4')),\n",
    "                              ('s_yz',np.dtype('f4')),\n",
    "                              ('s_xx',np.dtype('f4')),\n",
    "                              ('s_xz',np.dtype('f4')),\n",
    "                              ('s_xy',np.dtype('f4')),\n",
    "                              ('d_c',np.dtype('f4')),\n",
    "                              ('mu_s',np.dtype('f4'))])\n",
    "\n",
    "s_zz_p,s_zz_p_0=create_projection(s_zz_b)\n",
    "s_yy_p,s_yy_p_0=create_projection(s_yy_b)\n",
    "s_yz_p,s_yz_p_0=create_projection(s_yz_b)\n",
    "s_xx_p,s_xx_p_0=create_projection(s_xx_b)\n",
    "s_xz_p,s_xz_p_0=create_projection(s_xz_b)\n",
    "s_xy_p,s_xy_p_0=create_projection(s_xy_b)\n",
    "d_c_p,d_c_p_0=create_projection(D_CR_b)\n",
    "mu_s_p,mu_s_p_0=create_projection(mu_s_b)\n",
    "\n",
    "data = fout.createCompoundType(initial_condition,'initial_condition')\n",
    "vv = fout.createVariable('data',data,dimensions=('z', 'y', 'x'))\n",
    "\n",
    "\n",
    "for k in range(0,stepz):\n",
    "    for jj in range (stepy):\n",
    "        for i in range(0,stepx):\n",
    "            vv[k,jj,i] = (s_zz_p_0[k,jj,i],s_yy_p_0[k,jj,i],s_yz_p_0[k,jj,i],s_xx_p_0[k,jj,i],\n",
    "                          s_xz_p_0[k,jj,i],s_xy_p_0[k,jj,i],d_c_p_0[k,jj,i],mu_s_p_0[k,jj,i])\n",
    "#attenti ordine degli indici: prima z poi y poi x.\n",
    "            \n",
    "fout.close()"
   ]
  },
  {
   "cell_type": "code",
   "execution_count": null,
   "metadata": {
    "ExecuteTime": {
     "end_time": "2020-09-25T14:59:35.418174Z",
     "start_time": "2020-09-25T14:59:34.604Z"
    }
   },
   "outputs": [],
   "source": [
    "# for paraview\n",
    "fnetcdf = Dataset('ex_'+fname210_pw, 'w', format='NETCDF3_64BIT')\n",
    "\n",
    "fnetcdf.createDimension('x', stepx)\n",
    "fnetcdf.createDimension('y', stepy)\n",
    "fnetcdf.createDimension('z', stepz)\n",
    "\n",
    "# fnetcdf.createDimension('nvar', 3)\n",
    "desc = 'test'\n",
    "fnetcdf.description = desc\n",
    "\n",
    "x_nc = fnetcdf.createVariable('x', 'f4', ('x'))\n",
    "y_nc = fnetcdf.createVariable('y', 'f4', ('y'))\n",
    "z_nc = fnetcdf.createVariable('z', 'f4', ('z'))\n",
    "\n",
    "s_yz_nc = fnetcdf.createVariable('s_yz', 'f4', ('z', 'y','x'))\n",
    "s_yy_nc = fnetcdf.createVariable('s_yy', 'f4', ('z', 'y','x'))\n",
    "s_zz_nc = fnetcdf.createVariable('s_zz', 'f4', ('z', 'y','x'))\n",
    "s_xx_nc = fnetcdf.createVariable('s_xx', 'f4', ('z', 'y','x'))\n",
    "s_xz_nc = fnetcdf.createVariable('s_xz', 'f4', ('z', 'y','x'))\n",
    "s_xy_nc = fnetcdf.createVariable('s_xy', 'f4', ('z', 'y','x'))\n",
    "dc_nc = fnetcdf.createVariable('d_c', 'f4', ('z', 'y','x'))\n",
    "mu_s_nc = fnetcdf.createVariable('mu_s', 'f4', ('z', 'y','x'))\n",
    "\n",
    "#s_xz.transpose((2,1,0))\n",
    "s_zz_nc[:,:,:] = s_zz_p_0\n",
    "s_yy_nc[:,:,:] = s_yy_p_0\n",
    "s_yz_nc[:,:,:] = s_yz_p_0\n",
    "s_xx_nc[:,:,:] = s_xx_p_0\n",
    "s_xz_nc[:,:,:] = s_xz_p_0\n",
    "s_xy_nc[:,:,:] = s_xy_p_0\n",
    "dc_nc[:,:,:] = d_c_p_0\n",
    "mu_s_nc[:,:,:] = mu_s_p_0\n",
    "\n",
    "x_nc[:] = x_210\n",
    "y_nc[:] = y_210\n",
    "z_nc[:] = z_210\n",
    "fnetcdf.close()"
   ]
  }
 ],
 "metadata": {
  "kernelspec": {
   "display_name": "Python 3 (Spyder)",
   "language": "python3",
   "name": "python3"
  },
  "language_info": {
   "codemirror_mode": {
    "name": "ipython",
    "version": 3
   },
   "file_extension": ".py",
   "mimetype": "text/x-python",
   "name": "python",
   "nbconvert_exporter": "python",
   "pygments_lexer": "ipython3",
   "version": "3.7.4"
  },
  "latex_envs": {
   "LaTeX_envs_menu_present": true,
   "autocomplete": true,
   "bibliofile": "biblio.bib",
   "cite_by": "apalike",
   "current_citInitial": 1,
   "eqLabelWithNumbers": true,
   "eqNumInitial": 1,
   "hotkeys": {
    "equation": "Ctrl-E",
    "itemize": "Ctrl-I"
   },
   "labels_anchors": false,
   "latex_user_defs": false,
   "report_style_numbering": false,
   "user_envs_cfg": false
  },
  "toc": {
   "base_numbering": 1,
   "nav_menu": {},
   "number_sections": true,
   "sideBar": true,
   "skip_h1_title": false,
   "title_cell": "Table of Contents",
   "title_sidebar": "Contents",
   "toc_cell": false,
   "toc_position": {
    "height": "719px",
    "left": "23px",
    "top": "110px",
    "width": "165px"
   },
   "toc_section_display": true,
   "toc_window_display": true
  },
  "varInspector": {
   "cols": {
    "lenName": 16,
    "lenType": 16,
    "lenVar": 40
   },
   "kernels_config": {
    "python": {
     "delete_cmd_postfix": "",
     "delete_cmd_prefix": "del ",
     "library": "var_list.py",
     "varRefreshCmd": "print(var_dic_list())"
    },
    "r": {
     "delete_cmd_postfix": ") ",
     "delete_cmd_prefix": "rm(",
     "library": "var_list.r",
     "varRefreshCmd": "cat(var_dic_list()) "
    }
   },
   "types_to_exclude": [
    "module",
    "function",
    "builtin_function_or_method",
    "instance",
    "_Feature"
   ],
   "window_display": false
  }
 },
 "nbformat": 4,
 "nbformat_minor": 2
}
